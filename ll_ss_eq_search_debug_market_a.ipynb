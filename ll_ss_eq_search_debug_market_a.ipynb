{
 "cells": [
  {
   "cell_type": "code",
   "execution_count": 1,
   "metadata": {},
   "outputs": [],
   "source": [
    "#this script checks the general sum finite strategy eq proposed by theory is correct or not\n",
    "# only works for ML single state regions 1+3 and 2+4 because the focus is on firm A's stromg submarket\n",
    "\n",
    "%load_ext autoreload\n",
    "%autoreload 2\n",
    "from utils.imports import *\n",
    "from utils.single_stage import *\n",
    "from utils.utils import *"
   ]
  },
  {
   "cell_type": "code",
   "execution_count": 2,
   "metadata": {},
   "outputs": [],
   "source": [
    "# Parameters\n",
    "\n",
    "dist  = 'uniform'\n",
    "npts = 100\n",
    "\n",
    "# ca,cb,la,lb,sa,sb = ml_get_example_in_region(region=3) #ML region I and III: ca-cb < 2la\n",
    "# ca,cb,la,lb,sa,sb = ml_get_example_in_region(region=4) #ML region II and IV: ca-cb > 2la\n",
    "# ca,cb,la,lb,sa,sb = al_get_example_in_region(region=1) #AL region 1 and 4: ca-cb < sa-1\n",
    "# ca,cb,la,lb,sa,sb = al_get_example_in_region(region=1) #AL region 2 and 5: sa-1 <= ca - cb <= sa+2\n",
    "# ca,cb,la,lb,sa,sb = al_get_example_in_region(region=1) #AL region 3: ca-cb > sa+2"
   ]
  },
  {
   "cell_type": "code",
   "execution_count": 3,
   "metadata": {},
   "outputs": [
    {
     "name": "stdout",
     "output_type": "stream",
     "text": [
      "ca,cb,la,lb,sa,sb 1 0 2 2 0 0\n",
      "paa_t,pba_t: 1.98 0.99\n",
      "objaa_t,objba_t,constraint: 0.4949 0.49005 True\n"
     ]
    }
   ],
   "source": [
    "#Theory\n",
    "print('ca,cb,la,lb,sa,sb',ca,cb,la,lb,sa,sb)\n",
    "paa_t,pba_t,_,_ = ll_get_metrics_theory(dist,ca,cb,la,lb,sa,sb)\n",
    "objaa_t,objba_t,flag_constraint = ll_get_objective_vals_at(dist,paa_t,pba_t,ca,cb,la,sb,market='A-strong-sub-market')\n",
    "print('paa_t,pba_t:',paa_t,pba_t)\n",
    "print('objaa_t,objba_t,constraint:',objaa_t,objba_t,flag_constraint)"
   ]
  },
  {
   "cell_type": "code",
   "execution_count": 4,
   "metadata": {},
   "outputs": [],
   "source": [
    "#Computational\n",
    "paa_arr,pba_arr,objaa,objba,constraintmat = ll_get_payoff_matrices_for_exhaustive(dist,npts,ca,cb,paa_t,pba_t,la,sa,market='A-strong-sub-market')"
   ]
  },
  {
   "cell_type": "code",
   "execution_count": 5,
   "metadata": {},
   "outputs": [],
   "source": [
    "# get_plot_constraint_using_plotly(paa_arr,pba_arr,constraintmat,xname='pba',yname='paa')\n",
    "# get_plot_payoffs_using_plotly(objaa,objba,paa_arr,pba_arr)"
   ]
  },
  {
   "cell_type": "code",
   "execution_count": 6,
   "metadata": {},
   "outputs": [
    {
     "name": "stdout",
     "output_type": "stream",
     "text": [
      "equlibrium found: 1.98 0.99\n"
     ]
    }
   ],
   "source": [
    "#obtain all equilibria\n",
    "F,f = get_xi_dist(dist)\n",
    "for i,paa_c in enumerate(paa_arr):\n",
    "    for j,pba_c in enumerate(pba_arr):\n",
    "        if ll_ss_is_equlibrium_exhaustive(paa_arr,pba_arr,paa_c,pba_c,objaa,objba,F,ca,cb,la,sa):\n",
    "            print('equlibrium found:',paa_c,pba_c)"
   ]
  },
  {
   "cell_type": "code",
   "execution_count": 7,
   "metadata": {},
   "outputs": [
    {
     "name": "stdout",
     "output_type": "stream",
     "text": [
      "theory candidate is equilibrium: True\n"
     ]
    }
   ],
   "source": [
    "#Compare equilibria with the theory candidate\n",
    "print('theory candidate is equilibrium:',ll_ss_is_equlibrium_exhaustive(paa_arr,pba_arr,paa_t,pba_t,objaa,objba,F,ca,cb,la,sa))"
   ]
  }
 ],
 "metadata": {
  "kernelspec": {
   "display_name": "Python 3",
   "language": "python",
   "name": "python3"
  },
  "language_info": {
   "codemirror_mode": {
    "name": "ipython",
    "version": 3
   },
   "file_extension": ".py",
   "mimetype": "text/x-python",
   "name": "python",
   "nbconvert_exporter": "python",
   "pygments_lexer": "ipython3",
   "version": "3.7.6"
  }
 },
 "nbformat": 4,
 "nbformat_minor": 2
}
