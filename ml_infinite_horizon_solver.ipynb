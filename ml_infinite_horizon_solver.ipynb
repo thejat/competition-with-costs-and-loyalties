{
 "cells": [
  {
   "cell_type": "code",
   "execution_count": 3,
   "metadata": {},
   "outputs": [
    {
     "name": "stdout",
     "output_type": "stream",
     "text": [
      "The autoreload extension is already loaded. To reload it, use:\n",
      "  %reload_ext autoreload\n"
     ]
    }
   ],
   "source": [
    "#verification that each region yileds the equilibrium suggested by theory\n",
    "%load_ext autoreload\n",
    "%autoreload 2\n",
    "from utils.imports import *\n",
    "from utils.single_stage import get_xi_dist, ml_get_example_in_region\n",
    "from utils.infinite_horizon import ll_compare_two_solutions"
   ]
  },
  {
   "cell_type": "code",
   "execution_count": 4,
   "metadata": {},
   "outputs": [],
   "source": [
    "deltaf = 0.001\n",
    "npts   = 40\n",
    "dist   = 'uniform'"
   ]
  },
  {
   "cell_type": "code",
   "execution_count": 6,
   "metadata": {},
   "outputs": [
    {
     "name": "stdout",
     "output_type": "stream",
     "text": [
      "ml_get_metric_arrs_vs_camcb_nodf start:  2020-08-03 00:17:10.707044\n",
      "i,ca,time:  0 2 2020-08-03 00:17:10.707336\n",
      "ml_get_metric_arrs_vs_camcb_nodf end:  2020-08-03 00:17:10.788543\n",
      "ml_get_metric_arrs_vs_camcb_nodf start:  2020-08-03 00:17:10.789217\n",
      "i,ca,time:  0 2 2020-08-03 00:17:10.789952\n"
     ]
    },
    {
     "name": "stderr",
     "output_type": "stream",
     "text": [
      "/Users/theja/miniconda3/lib/python3.7/site-packages/scipy/optimize/minpack.py:162: RuntimeWarning: The iteration is not making good progress, as measured by the \n",
      "  improvement from the last ten iterations.\n",
      "  warnings.warn(msg, RuntimeWarning)\n"
     ]
    },
    {
     "ename": "NameError",
     "evalue": "name 'ml_get_payoff_matrices_state_a' is not defined",
     "output_type": "error",
     "traceback": [
      "\u001b[0;31m---------------------------------------------------------------------------\u001b[0m",
      "\u001b[0;31mNameError\u001b[0m                                 Traceback (most recent call last)",
      "\u001b[0;32m<ipython-input-6-7027d48b004d>\u001b[0m in \u001b[0;36m<module>\u001b[0;34m\u001b[0m\n\u001b[1;32m      1\u001b[0m \u001b[0;31m#ss region 1\u001b[0m\u001b[0;34m\u001b[0m\u001b[0;34m\u001b[0m\u001b[0;34m\u001b[0m\u001b[0m\n\u001b[1;32m      2\u001b[0m \u001b[0mca\u001b[0m\u001b[0;34m,\u001b[0m\u001b[0mcb\u001b[0m\u001b[0;34m,\u001b[0m\u001b[0mla\u001b[0m\u001b[0;34m,\u001b[0m\u001b[0mlb\u001b[0m\u001b[0;34m,\u001b[0m\u001b[0msa\u001b[0m\u001b[0;34m,\u001b[0m\u001b[0msb\u001b[0m \u001b[0;34m=\u001b[0m \u001b[0mml_get_example_in_region\u001b[0m\u001b[0;34m(\u001b[0m\u001b[0;36m1\u001b[0m\u001b[0;34m,\u001b[0m\u001b[0mdist\u001b[0m\u001b[0;34m)\u001b[0m\u001b[0;34m\u001b[0m\u001b[0;34m\u001b[0m\u001b[0m\n\u001b[0;32m----> 3\u001b[0;31m \u001b[0mll_compare_two_solutions\u001b[0m\u001b[0;34m(\u001b[0m\u001b[0mca\u001b[0m\u001b[0;34m,\u001b[0m\u001b[0mcb\u001b[0m\u001b[0;34m,\u001b[0m\u001b[0mla\u001b[0m\u001b[0;34m,\u001b[0m\u001b[0mlb\u001b[0m\u001b[0;34m,\u001b[0m\u001b[0mca\u001b[0m\u001b[0;34m+\u001b[0m\u001b[0;36m5\u001b[0m\u001b[0;34m,\u001b[0m\u001b[0mnpts\u001b[0m\u001b[0;34m,\u001b[0m\u001b[0mdeltaf\u001b[0m\u001b[0;34m,\u001b[0m\u001b[0mdist\u001b[0m\u001b[0;34m)\u001b[0m\u001b[0;34m\u001b[0m\u001b[0;34m\u001b[0m\u001b[0m\n\u001b[0m",
      "\u001b[0;32m~/theja/research/research_key/aris20/code/utils/infinite_horizon.py\u001b[0m in \u001b[0;36mll_compare_two_solutions\u001b[0;34m(ca, cb, la, lb, maxpx, npts, deltaf, dist)\u001b[0m\n\u001b[1;32m    291\u001b[0m         \u001b[0mmarketshare_a_arr\u001b[0m\u001b[0;34m,\u001b[0m\u001b[0mmarketshare_b_arr\u001b[0m\u001b[0;34m,\u001b[0m\u001b[0mtotal_profit_a_arr\u001b[0m\u001b[0;34m,\u001b[0m\u001b[0mtotal_profit_b_arr\u001b[0m\u001b[0;34m,\u001b[0m\u001b[0;31m\\\u001b[0m\u001b[0;34m\u001b[0m\u001b[0;34m\u001b[0m\u001b[0m\n\u001b[1;32m    292\u001b[0m         \u001b[0mprob_purchase_a_from_a_arr\u001b[0m\u001b[0;34m,\u001b[0m\u001b[0mprob_purchase_b_from_b_arr\u001b[0m\u001b[0;31m \u001b[0m\u001b[0;31m\\\u001b[0m\u001b[0;34m\u001b[0m\u001b[0;34m\u001b[0m\u001b[0m\n\u001b[0;32m--> 293\u001b[0;31m                 \u001b[0;34m=\u001b[0m \u001b[0mml_get_metric_arrs_vs_camcb_nodf\u001b[0m\u001b[0;34m(\u001b[0m\u001b[0mnp\u001b[0m\u001b[0;34m.\u001b[0m\u001b[0marray\u001b[0m\u001b[0;34m(\u001b[0m\u001b[0;34m[\u001b[0m\u001b[0mca\u001b[0m\u001b[0;34m]\u001b[0m\u001b[0;34m)\u001b[0m\u001b[0;34m,\u001b[0m\u001b[0mcb\u001b[0m\u001b[0;34m,\u001b[0m\u001b[0mla\u001b[0m\u001b[0;34m,\u001b[0m\u001b[0mlb\u001b[0m\u001b[0;34m,\u001b[0m\u001b[0mdist\u001b[0m\u001b[0;34m,\u001b[0m\u001b[0mdeltaf\u001b[0m\u001b[0;34m,\u001b[0m\u001b[0;32mFalse\u001b[0m\u001b[0;34m,\u001b[0m\u001b[0mmaxpx\u001b[0m\u001b[0;34m,\u001b[0m\u001b[0mnpts\u001b[0m\u001b[0;34m,\u001b[0m\u001b[0;32mFalse\u001b[0m\u001b[0;34m,\u001b[0m\u001b[0;32mFalse\u001b[0m\u001b[0;34m)\u001b[0m\u001b[0;34m\u001b[0m\u001b[0;34m\u001b[0m\u001b[0m\n\u001b[0m\u001b[1;32m    294\u001b[0m \tresult1_c = {'paa':paa_arr[0],'pba':pba_arr[0],'vaa':vaao_arr[0],'vba':vbao_arr[0], 'xia':xia_arr[0],\n\u001b[1;32m    295\u001b[0m \t\t'constraint_aa_ba':constraint_aa_ba_arr[0],'constraint_cross_a':constraint_cross_a_arr[0] }\n",
      "\u001b[0;32m~/theja/research/research_key/aris20/code/utils/infinite_horizon.py\u001b[0m in \u001b[0;36mml_get_metric_arrs_vs_camcb_nodf\u001b[0;34m(ca_arr, cb, la, lb, dist, deltaf, flag_theory, maxpx, npts, show_progress, plot_path)\u001b[0m\n\u001b[1;32m    246\u001b[0m                 \u001b[0;32melse\u001b[0m\u001b[0;34m:\u001b[0m\u001b[0;34m\u001b[0m\u001b[0;34m\u001b[0m\u001b[0m\n\u001b[1;32m    247\u001b[0m                         \u001b[0mpaa_arr\u001b[0m\u001b[0;34m[\u001b[0m\u001b[0mi\u001b[0m\u001b[0;34m]\u001b[0m\u001b[0;34m,\u001b[0m\u001b[0mpab_arr\u001b[0m\u001b[0;34m[\u001b[0m\u001b[0mi\u001b[0m\u001b[0;34m]\u001b[0m\u001b[0;34m,\u001b[0m\u001b[0mpbb_arr\u001b[0m\u001b[0;34m[\u001b[0m\u001b[0mi\u001b[0m\u001b[0;34m]\u001b[0m\u001b[0;34m,\u001b[0m\u001b[0mpba_arr\u001b[0m\u001b[0;34m[\u001b[0m\u001b[0mi\u001b[0m\u001b[0;34m]\u001b[0m\u001b[0;34m,\u001b[0m \u001b[0mxia_arr\u001b[0m\u001b[0;34m[\u001b[0m\u001b[0mi\u001b[0m\u001b[0;34m]\u001b[0m\u001b[0;34m,\u001b[0m\u001b[0mxib_arr\u001b[0m\u001b[0;34m[\u001b[0m\u001b[0mi\u001b[0m\u001b[0;34m]\u001b[0m\u001b[0;34m,\u001b[0m\u001b[0mvaao_arr\u001b[0m\u001b[0;34m[\u001b[0m\u001b[0mi\u001b[0m\u001b[0;34m]\u001b[0m\u001b[0;34m,\u001b[0m\u001b[0mvabo_arr\u001b[0m\u001b[0;34m[\u001b[0m\u001b[0mi\u001b[0m\u001b[0;34m]\u001b[0m\u001b[0;34m,\u001b[0m\u001b[0mvbbo_arr\u001b[0m\u001b[0;34m[\u001b[0m\u001b[0mi\u001b[0m\u001b[0;34m]\u001b[0m\u001b[0;34m,\u001b[0m\u001b[0mvbao_arr\u001b[0m\u001b[0;34m[\u001b[0m\u001b[0mi\u001b[0m\u001b[0;34m]\u001b[0m\u001b[0;31m \u001b[0m\u001b[0;31m \u001b[0m\u001b[0;31m\\\u001b[0m\u001b[0;34m\u001b[0m\u001b[0;34m\u001b[0m\u001b[0m\n\u001b[0;32m--> 248\u001b[0;31m                                 \u001b[0;34m=\u001b[0m \u001b[0mml_get_metrics_computed\u001b[0m\u001b[0;34m(\u001b[0m\u001b[0mca\u001b[0m\u001b[0;34m,\u001b[0m\u001b[0mcb\u001b[0m\u001b[0;34m,\u001b[0m\u001b[0mla\u001b[0m\u001b[0;34m,\u001b[0m\u001b[0mlb\u001b[0m\u001b[0;34m,\u001b[0m\u001b[0mF\u001b[0m\u001b[0;34m,\u001b[0m\u001b[0mf\u001b[0m\u001b[0;34m,\u001b[0m\u001b[0mdeltaf\u001b[0m\u001b[0;34m,\u001b[0m\u001b[0mdist\u001b[0m\u001b[0;34m,\u001b[0m\u001b[0mmaxpx\u001b[0m\u001b[0;34m,\u001b[0m\u001b[0mnpts\u001b[0m\u001b[0;34m,\u001b[0m\u001b[0mshow_progress\u001b[0m\u001b[0;34m,\u001b[0m\u001b[0mplot_path\u001b[0m\u001b[0;34m)\u001b[0m\u001b[0;34m\u001b[0m\u001b[0;34m\u001b[0m\u001b[0m\n\u001b[0m\u001b[1;32m    249\u001b[0m \u001b[0;34m\u001b[0m\u001b[0m\n\u001b[1;32m    250\u001b[0m                 \u001b[0;32mif\u001b[0m \u001b[0mll_constraint\u001b[0m\u001b[0;34m(\u001b[0m\u001b[0mpaa_arr\u001b[0m\u001b[0;34m[\u001b[0m\u001b[0mi\u001b[0m\u001b[0;34m]\u001b[0m\u001b[0;34m,\u001b[0m\u001b[0mpba_arr\u001b[0m\u001b[0;34m[\u001b[0m\u001b[0mi\u001b[0m\u001b[0;34m]\u001b[0m\u001b[0;34m,\u001b[0m\u001b[0mla\u001b[0m\u001b[0;34m,\u001b[0m\u001b[0;36m0\u001b[0m\u001b[0;34m,\u001b[0m\u001b[0mdist\u001b[0m\u001b[0;34m)\u001b[0m \u001b[0;32mand\u001b[0m \u001b[0mfirm_constraint_cost\u001b[0m\u001b[0;34m(\u001b[0m\u001b[0mpaa_arr\u001b[0m\u001b[0;34m[\u001b[0m\u001b[0mi\u001b[0m\u001b[0;34m]\u001b[0m\u001b[0;34m,\u001b[0m\u001b[0mca\u001b[0m\u001b[0;34m)\u001b[0m \u001b[0;32mand\u001b[0m \u001b[0mfirm_constraint_cost\u001b[0m\u001b[0;34m(\u001b[0m\u001b[0mpba_arr\u001b[0m\u001b[0;34m[\u001b[0m\u001b[0mi\u001b[0m\u001b[0;34m]\u001b[0m\u001b[0;34m,\u001b[0m\u001b[0mcb\u001b[0m\u001b[0;34m)\u001b[0m\u001b[0;34m:\u001b[0m\u001b[0;34m\u001b[0m\u001b[0;34m\u001b[0m\u001b[0m\n",
      "\u001b[0;32m~/theja/research/research_key/aris20/code/utils/infinite_horizon.py\u001b[0m in \u001b[0;36mml_get_metrics_computed\u001b[0;34m(ca, cb, la, lb, F, f, deltaf, dist, maxpx, npts, show_progress, plot_path)\u001b[0m\n\u001b[1;32m    149\u001b[0m         \u001b[0;31m#data for solver: payoff matrices\u001b[0m\u001b[0;34m\u001b[0m\u001b[0;34m\u001b[0m\u001b[0;34m\u001b[0m\u001b[0m\n\u001b[1;32m    150\u001b[0m         \u001b[0mpa_arr\u001b[0m\u001b[0;34m,\u001b[0m\u001b[0mpb_arr\u001b[0m\u001b[0;34m,\u001b[0m\u001b[0mobja_state_a\u001b[0m\u001b[0;34m,\u001b[0m\u001b[0mobjb_state_a\u001b[0m\u001b[0;34m,\u001b[0m\u001b[0;31m\\\u001b[0m\u001b[0;34m\u001b[0m\u001b[0;34m\u001b[0m\u001b[0m\n\u001b[0;32m--> 151\u001b[0;31m         \u001b[0mconstraint_state_a\u001b[0m \u001b[0;34m=\u001b[0m \u001b[0mml_get_payoff_matrices_state_a\u001b[0m\u001b[0;34m(\u001b[0m\u001b[0mca\u001b[0m\u001b[0;34m,\u001b[0m\u001b[0mcb\u001b[0m\u001b[0;34m,\u001b[0m\u001b[0mmaxpx\u001b[0m\u001b[0;34m,\u001b[0m\u001b[0mnpts\u001b[0m\u001b[0;34m,\u001b[0m\u001b[0mdist\u001b[0m\u001b[0;34m,\u001b[0m\u001b[0mla\u001b[0m\u001b[0;34m)\u001b[0m\u001b[0;34m\u001b[0m\u001b[0;34m\u001b[0m\u001b[0m\n\u001b[0m\u001b[1;32m    152\u001b[0m         \u001b[0m_\u001b[0m\u001b[0;34m,\u001b[0m\u001b[0m_\u001b[0m\u001b[0;34m,\u001b[0m\u001b[0mobja_state_b\u001b[0m\u001b[0;34m,\u001b[0m\u001b[0mobjb_state_b\u001b[0m\u001b[0;34m,\u001b[0m\u001b[0;31m\\\u001b[0m\u001b[0;34m\u001b[0m\u001b[0;34m\u001b[0m\u001b[0m\n\u001b[1;32m    153\u001b[0m         \u001b[0mconstraint_state_b\u001b[0m \u001b[0;34m=\u001b[0m \u001b[0mml_get_payoff_matrices_state_b\u001b[0m\u001b[0;34m(\u001b[0m\u001b[0mca\u001b[0m\u001b[0;34m,\u001b[0m\u001b[0mcb\u001b[0m\u001b[0;34m,\u001b[0m\u001b[0mmaxpx\u001b[0m\u001b[0;34m,\u001b[0m\u001b[0mnpts\u001b[0m\u001b[0;34m,\u001b[0m\u001b[0mdist\u001b[0m\u001b[0;34m,\u001b[0m\u001b[0mlb\u001b[0m\u001b[0;34m)\u001b[0m\u001b[0;34m\u001b[0m\u001b[0;34m\u001b[0m\u001b[0m\n",
      "\u001b[0;31mNameError\u001b[0m: name 'ml_get_payoff_matrices_state_a' is not defined"
     ]
    }
   ],
   "source": [
    "#ss region 1\n",
    "ca,cb,la,lb,sa,sb = ml_get_example_in_region(1,dist)\n",
    "ll_compare_two_solutions(ca,cb,la,lb,ca+5,npts,deltaf,dist)"
   ]
  },
  {
   "cell_type": "code",
   "execution_count": 32,
   "metadata": {},
   "outputs": [
    {
     "name": "stdout",
     "output_type": "stream",
     "text": [
      "{'ca': 5, 'cb': 0, 'la': 2, 'lb': 1}\n",
      "{'paa_sst': 5, 'pba_sst': 3, 'pab_sst': 5, 'pbb_sst': 5}\n"
     ]
    },
    {
     "name": "stderr",
     "output_type": "stream",
     "text": [
      "/Users/theja/miniconda3/lib/python3.7/site-packages/scipy/optimize/minpack.py:162: RuntimeWarning: The iteration is not making good progress, as measured by the \n",
      "  improvement from the last ten iterations.\n",
      "  warnings.warn(msg, RuntimeWarning)\n"
     ]
    },
    {
     "data": {
      "text/html": [
       "<div>\n",
       "<style scoped>\n",
       "    .dataframe tbody tr th:only-of-type {\n",
       "        vertical-align: middle;\n",
       "    }\n",
       "\n",
       "    .dataframe tbody tr th {\n",
       "        vertical-align: top;\n",
       "    }\n",
       "\n",
       "    .dataframe thead th {\n",
       "        text-align: right;\n",
       "    }\n",
       "</style>\n",
       "<table border=\"1\" class=\"dataframe\">\n",
       "  <thead>\n",
       "    <tr style=\"text-align: right;\">\n",
       "      <th></th>\n",
       "      <th>type</th>\n",
       "      <th>paa</th>\n",
       "      <th>pba</th>\n",
       "      <th>pbb</th>\n",
       "      <th>pab</th>\n",
       "      <th>xia</th>\n",
       "      <th>xib</th>\n",
       "      <th>vaa</th>\n",
       "      <th>vab</th>\n",
       "      <th>vbb</th>\n",
       "      <th>vba</th>\n",
       "      <th>constraint_aa_ba</th>\n",
       "      <th>constraint_bb_ab</th>\n",
       "      <th>constraint_cross_a</th>\n",
       "      <th>constraint_cross_b</th>\n",
       "    </tr>\n",
       "  </thead>\n",
       "  <tbody>\n",
       "    <tr>\n",
       "      <th>0</th>\n",
       "      <td>theory</td>\n",
       "      <td>6.000</td>\n",
       "      <td>1.000</td>\n",
       "      <td>0.500</td>\n",
       "      <td>5.500</td>\n",
       "      <td>0.500</td>\n",
       "      <td>0.500</td>\n",
       "      <td>0.500</td>\n",
       "      <td>0.250</td>\n",
       "      <td>0.251</td>\n",
       "      <td>0.501</td>\n",
       "      <td>0.0</td>\n",
       "      <td>0.0</td>\n",
       "      <td>1.0</td>\n",
       "      <td>0.0</td>\n",
       "    </tr>\n",
       "    <tr>\n",
       "      <th>1</th>\n",
       "      <td>computed</td>\n",
       "      <td>5.128</td>\n",
       "      <td>3.333</td>\n",
       "      <td>5.641</td>\n",
       "      <td>5.385</td>\n",
       "      <td>0.898</td>\n",
       "      <td>0.256</td>\n",
       "      <td>0.013</td>\n",
       "      <td>0.099</td>\n",
       "      <td>3.841</td>\n",
       "      <td>2.995</td>\n",
       "      <td>1.0</td>\n",
       "      <td>1.0</td>\n",
       "      <td>0.0</td>\n",
       "      <td>1.0</td>\n",
       "    </tr>\n",
       "  </tbody>\n",
       "</table>\n",
       "</div>"
      ],
      "text/plain": [
       "       type    paa    pba    pbb    pab    xia    xib    vaa    vab    vbb  \\\n",
       "0    theory  6.000  1.000  0.500  5.500  0.500  0.500  0.500  0.250  0.251   \n",
       "1  computed  5.128  3.333  5.641  5.385  0.898  0.256  0.013  0.099  3.841   \n",
       "\n",
       "     vba  constraint_aa_ba  constraint_bb_ab  constraint_cross_a  \\\n",
       "0  0.501               0.0               0.0                 1.0   \n",
       "1  2.995               1.0               1.0                 0.0   \n",
       "\n",
       "   constraint_cross_b  \n",
       "0                 0.0  \n",
       "1                 1.0  "
      ]
     },
     "execution_count": 32,
     "metadata": {},
     "output_type": "execute_result"
    }
   ],
   "source": [
    "#ss region 2\n",
    "ca,cb,la,lb,sa,sb = ml_get_example_in_region(2,dist)\n",
    "ml_compare_two_solutions(ca,cb,la,lb,ca+5,npts,deltaf,dist)"
   ]
  },
  {
   "cell_type": "code",
   "execution_count": 33,
   "metadata": {},
   "outputs": [
    {
     "name": "stdout",
     "output_type": "stream",
     "text": [
      "{'ca': 1, 'cb': 0, 'la': 2, 'lb': 2}\n",
      "{'paa_sst': 1.98, 'pba_sst': 0.99, 'pab_sst': 1.32, 'pbb_sst': 1.65}\n"
     ]
    },
    {
     "data": {
      "text/html": [
       "<div>\n",
       "<style scoped>\n",
       "    .dataframe tbody tr th:only-of-type {\n",
       "        vertical-align: middle;\n",
       "    }\n",
       "\n",
       "    .dataframe tbody tr th {\n",
       "        vertical-align: top;\n",
       "    }\n",
       "\n",
       "    .dataframe thead th {\n",
       "        text-align: right;\n",
       "    }\n",
       "</style>\n",
       "<table border=\"1\" class=\"dataframe\">\n",
       "  <thead>\n",
       "    <tr style=\"text-align: right;\">\n",
       "      <th></th>\n",
       "      <th>type</th>\n",
       "      <th>paa</th>\n",
       "      <th>pba</th>\n",
       "      <th>pbb</th>\n",
       "      <th>pab</th>\n",
       "      <th>xia</th>\n",
       "      <th>xib</th>\n",
       "      <th>vaa</th>\n",
       "      <th>vab</th>\n",
       "      <th>vbb</th>\n",
       "      <th>vba</th>\n",
       "      <th>constraint_aa_ba</th>\n",
       "      <th>constraint_bb_ab</th>\n",
       "      <th>constraint_cross_a</th>\n",
       "      <th>constraint_cross_b</th>\n",
       "    </tr>\n",
       "  </thead>\n",
       "  <tbody>\n",
       "    <tr>\n",
       "      <th>0</th>\n",
       "      <td>theory</td>\n",
       "      <td>1.999</td>\n",
       "      <td>0.999</td>\n",
       "      <td>1.666</td>\n",
       "      <td>1.333</td>\n",
       "      <td>0.500</td>\n",
       "      <td>0.167</td>\n",
       "      <td>0.500</td>\n",
       "      <td>0.056</td>\n",
       "      <td>1.390</td>\n",
       "      <td>0.501</td>\n",
       "      <td>1.0</td>\n",
       "      <td>1.0</td>\n",
       "      <td>1.0</td>\n",
       "      <td>1.0</td>\n",
       "    </tr>\n",
       "    <tr>\n",
       "      <th>1</th>\n",
       "      <td>computed</td>\n",
       "      <td>2.026</td>\n",
       "      <td>1.077</td>\n",
       "      <td>1.692</td>\n",
       "      <td>1.385</td>\n",
       "      <td>0.474</td>\n",
       "      <td>0.153</td>\n",
       "      <td>0.539</td>\n",
       "      <td>0.059</td>\n",
       "      <td>1.433</td>\n",
       "      <td>0.512</td>\n",
       "      <td>1.0</td>\n",
       "      <td>1.0</td>\n",
       "      <td>1.0</td>\n",
       "      <td>1.0</td>\n",
       "    </tr>\n",
       "  </tbody>\n",
       "</table>\n",
       "</div>"
      ],
      "text/plain": [
       "       type    paa    pba    pbb    pab    xia    xib    vaa    vab    vbb  \\\n",
       "0    theory  1.999  0.999  1.666  1.333  0.500  0.167  0.500  0.056  1.390   \n",
       "1  computed  2.026  1.077  1.692  1.385  0.474  0.153  0.539  0.059  1.433   \n",
       "\n",
       "     vba  constraint_aa_ba  constraint_bb_ab  constraint_cross_a  \\\n",
       "0  0.501               1.0               1.0                 1.0   \n",
       "1  0.512               1.0               1.0                 1.0   \n",
       "\n",
       "   constraint_cross_b  \n",
       "0                 1.0  \n",
       "1                 1.0  "
      ]
     },
     "execution_count": 33,
     "metadata": {},
     "output_type": "execute_result"
    }
   ],
   "source": [
    "#ss region 3\n",
    "ca,cb,la,lb,sa,sb = ml_get_example_in_region(3,dist)\n",
    "ml_compare_two_solutions(ca,cb,la,lb,ca+5,npts,deltaf,dist)\n"
   ]
  },
  {
   "cell_type": "code",
   "execution_count": 34,
   "metadata": {},
   "outputs": [
    {
     "name": "stdout",
     "output_type": "stream",
     "text": [
      "{'ca': 3, 'cb': 0, 'la': 1, 'lb': 4}\n",
      "{'paa_sst': 3, 'pba_sst': 2, 'pab_sst': 3, 'pbb_sst': 3}\n"
     ]
    },
    {
     "name": "stderr",
     "output_type": "stream",
     "text": [
      "/Users/theja/miniconda3/lib/python3.7/site-packages/scipy/optimize/minpack.py:162: RuntimeWarning: The iteration is not making good progress, as measured by the \n",
      "  improvement from the last ten iterations.\n",
      "  warnings.warn(msg, RuntimeWarning)\n"
     ]
    },
    {
     "data": {
      "text/html": [
       "<div>\n",
       "<style scoped>\n",
       "    .dataframe tbody tr th:only-of-type {\n",
       "        vertical-align: middle;\n",
       "    }\n",
       "\n",
       "    .dataframe tbody tr th {\n",
       "        vertical-align: top;\n",
       "    }\n",
       "\n",
       "    .dataframe thead th {\n",
       "        text-align: right;\n",
       "    }\n",
       "</style>\n",
       "<table border=\"1\" class=\"dataframe\">\n",
       "  <thead>\n",
       "    <tr style=\"text-align: right;\">\n",
       "      <th></th>\n",
       "      <th>type</th>\n",
       "      <th>paa</th>\n",
       "      <th>pba</th>\n",
       "      <th>pbb</th>\n",
       "      <th>pab</th>\n",
       "      <th>xia</th>\n",
       "      <th>xib</th>\n",
       "      <th>vaa</th>\n",
       "      <th>vab</th>\n",
       "      <th>vbb</th>\n",
       "      <th>vba</th>\n",
       "      <th>constraint_aa_ba</th>\n",
       "      <th>constraint_bb_ab</th>\n",
       "      <th>constraint_cross_a</th>\n",
       "      <th>constraint_cross_b</th>\n",
       "    </tr>\n",
       "  </thead>\n",
       "  <tbody>\n",
       "    <tr>\n",
       "      <th>0</th>\n",
       "      <td>theory</td>\n",
       "      <td>3.501</td>\n",
       "      <td>0.499</td>\n",
       "      <td>1.999</td>\n",
       "      <td>5.001</td>\n",
       "      <td>0.500</td>\n",
       "      <td>0.500</td>\n",
       "      <td>0.251</td>\n",
       "      <td>1.001</td>\n",
       "      <td>1.000</td>\n",
       "      <td>0.25</td>\n",
       "      <td>0.0</td>\n",
       "      <td>0.0</td>\n",
       "      <td>0.0</td>\n",
       "      <td>1.0</td>\n",
       "    </tr>\n",
       "    <tr>\n",
       "      <th>1</th>\n",
       "      <td>computed</td>\n",
       "      <td>3.128</td>\n",
       "      <td>2.256</td>\n",
       "      <td>3.692</td>\n",
       "      <td>3.385</td>\n",
       "      <td>0.872</td>\n",
       "      <td>0.077</td>\n",
       "      <td>0.016</td>\n",
       "      <td>0.030</td>\n",
       "      <td>3.411</td>\n",
       "      <td>1.97</td>\n",
       "      <td>1.0</td>\n",
       "      <td>1.0</td>\n",
       "      <td>0.0</td>\n",
       "      <td>1.0</td>\n",
       "    </tr>\n",
       "  </tbody>\n",
       "</table>\n",
       "</div>"
      ],
      "text/plain": [
       "       type    paa    pba    pbb    pab    xia    xib    vaa    vab    vbb  \\\n",
       "0    theory  3.501  0.499  1.999  5.001  0.500  0.500  0.251  1.001  1.000   \n",
       "1  computed  3.128  2.256  3.692  3.385  0.872  0.077  0.016  0.030  3.411   \n",
       "\n",
       "    vba  constraint_aa_ba  constraint_bb_ab  constraint_cross_a  \\\n",
       "0  0.25               0.0               0.0                 0.0   \n",
       "1  1.97               1.0               1.0                 0.0   \n",
       "\n",
       "   constraint_cross_b  \n",
       "0                 1.0  \n",
       "1                 1.0  "
      ]
     },
     "execution_count": 34,
     "metadata": {},
     "output_type": "execute_result"
    }
   ],
   "source": [
    "#ss region 4\n",
    "ca,cb,la,lb,sa,sb = ml_get_example_in_region(4,dist)\n",
    "ml_compare_two_solutions(ca,cb,la,lb,ca+5,npts,deltaf,dist)"
   ]
  },
  {
   "cell_type": "code",
   "execution_count": 3,
   "metadata": {},
   "outputs": [],
   "source": [
    "#ml ih theory unique bug\n",
    "cb     = 0.2\n",
    "la     =   3\n",
    "lb     =   4\n",
    "deltaf = 0.4 #common discount function\n",
    "ca     = cb+.4\n",
    "df = ml_compare_two_solutions(ca,cb,la,lb,ca+5,npts,deltaf,dist)"
   ]
  },
  {
   "cell_type": "code",
   "execution_count": 4,
   "metadata": {},
   "outputs": [
    {
     "data": {
      "text/html": [
       "<div>\n",
       "<style scoped>\n",
       "    .dataframe tbody tr th:only-of-type {\n",
       "        vertical-align: middle;\n",
       "    }\n",
       "\n",
       "    .dataframe tbody tr th {\n",
       "        vertical-align: top;\n",
       "    }\n",
       "\n",
       "    .dataframe thead th {\n",
       "        text-align: right;\n",
       "    }\n",
       "</style>\n",
       "<table border=\"1\" class=\"dataframe\">\n",
       "  <thead>\n",
       "    <tr style=\"text-align: right;\">\n",
       "      <th></th>\n",
       "      <th>type</th>\n",
       "      <th>paa</th>\n",
       "      <th>pba</th>\n",
       "      <th>pbb</th>\n",
       "      <th>pab</th>\n",
       "      <th>xia</th>\n",
       "      <th>xib</th>\n",
       "      <th>vaa</th>\n",
       "      <th>vab</th>\n",
       "      <th>vbb</th>\n",
       "      <th>vba</th>\n",
       "      <th>constraint_aa_ba</th>\n",
       "      <th>constraint_bb_ab</th>\n",
       "      <th>constraint_cross_a</th>\n",
       "      <th>constraint_cross_b</th>\n",
       "    </tr>\n",
       "  </thead>\n",
       "  <tbody>\n",
       "    <tr>\n",
       "      <th>0</th>\n",
       "      <td>theory</td>\n",
       "      <td>2.059</td>\n",
       "      <td>0.808</td>\n",
       "      <td>2.475</td>\n",
       "      <td>1.392</td>\n",
       "      <td>0.417</td>\n",
       "      <td>0.271</td>\n",
       "      <td>1.216</td>\n",
       "      <td>0.489</td>\n",
       "      <td>2.475</td>\n",
       "      <td>0.869</td>\n",
       "      <td>1.0</td>\n",
       "      <td>1.0</td>\n",
       "      <td>1.0</td>\n",
       "      <td>1.0</td>\n",
       "    </tr>\n",
       "    <tr>\n",
       "      <th>1</th>\n",
       "      <td>computed</td>\n",
       "      <td>2.010</td>\n",
       "      <td>0.754</td>\n",
       "      <td>2.415</td>\n",
       "      <td>1.369</td>\n",
       "      <td>0.419</td>\n",
       "      <td>0.262</td>\n",
       "      <td>1.168</td>\n",
       "      <td>0.459</td>\n",
       "      <td>2.446</td>\n",
       "      <td>0.836</td>\n",
       "      <td>1.0</td>\n",
       "      <td>1.0</td>\n",
       "      <td>1.0</td>\n",
       "      <td>1.0</td>\n",
       "    </tr>\n",
       "  </tbody>\n",
       "</table>\n",
       "</div>"
      ],
      "text/plain": [
       "       type    paa    pba    pbb    pab    xia    xib    vaa    vab    vbb  \\\n",
       "0    theory  2.059  0.808  2.475  1.392  0.417  0.271  1.216  0.489  2.475   \n",
       "1  computed  2.010  0.754  2.415  1.369  0.419  0.262  1.168  0.459  2.446   \n",
       "\n",
       "     vba  constraint_aa_ba  constraint_bb_ab  constraint_cross_a  \\\n",
       "0  0.869               1.0               1.0                 1.0   \n",
       "1  0.836               1.0               1.0                 1.0   \n",
       "\n",
       "   constraint_cross_b  \n",
       "0                 1.0  \n",
       "1                 1.0  "
      ]
     },
     "execution_count": 4,
     "metadata": {},
     "output_type": "execute_result"
    }
   ],
   "source": [
    "df"
   ]
  },
  {
   "cell_type": "code",
   "execution_count": 1,
   "metadata": {},
   "outputs": [
    {
     "ename": "NameError",
     "evalue": "name 'df' is not defined",
     "output_type": "error",
     "traceback": [
      "\u001b[0;31m---------------------------------------------------------------------------\u001b[0m",
      "\u001b[0;31mNameError\u001b[0m                                 Traceback (most recent call last)",
      "\u001b[0;32m<ipython-input-1-6f25a33e173e>\u001b[0m in \u001b[0;36m<module>\u001b[0;34m\u001b[0m\n\u001b[0;32m----> 1\u001b[0;31m \u001b[0mdf\u001b[0m\u001b[0;34m[\u001b[0m\u001b[0;34m'type'\u001b[0m\u001b[0;34m]\u001b[0m\u001b[0;34m\u001b[0m\u001b[0;34m\u001b[0m\u001b[0m\n\u001b[0m",
      "\u001b[0;31mNameError\u001b[0m: name 'df' is not defined"
     ]
    }
   ],
   "source": [
    "df['type']"
   ]
  },
  {
   "cell_type": "code",
   "execution_count": null,
   "metadata": {},
   "outputs": [],
   "source": []
  }
 ],
 "metadata": {
  "kernelspec": {
   "display_name": "Python 3",
   "language": "python",
   "name": "python3"
  },
  "language_info": {
   "codemirror_mode": {
    "name": "ipython",
    "version": 3
   },
   "file_extension": ".py",
   "mimetype": "text/x-python",
   "name": "python",
   "nbconvert_exporter": "python",
   "pygments_lexer": "ipython3",
   "version": "3.7.6"
  }
 },
 "nbformat": 4,
 "nbformat_minor": 4
}
