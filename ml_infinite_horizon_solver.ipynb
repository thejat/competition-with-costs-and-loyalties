{
 "cells": [
  {
   "cell_type": "code",
   "execution_count": 1,
   "metadata": {},
   "outputs": [],
   "source": [
    "#verification that each region yileds the equilibrium suggested by theory\n",
    "%load_ext autoreload\n",
    "%autoreload 2\n",
    "from utils.imports import *\n",
    "from utils.single_stage import get_xi_dist, get_example\n",
    "from utils.infinite_horizon import ml_compare_two_solutions"
   ]
  },
  {
   "cell_type": "code",
   "execution_count": 2,
   "metadata": {},
   "outputs": [],
   "source": [
    "deltaf = 0.001\n",
    "npts   = 40\n",
    "dist   = 'uniform'"
   ]
  },
  {
   "cell_type": "code",
   "execution_count": 3,
   "metadata": {},
   "outputs": [
    {
     "name": "stdout",
     "output_type": "stream",
     "text": [
      "ca 2 cb 0 la 2 lb 1\n",
      "{'paa_sst': 2.64, 'pba_sst': 1.32, 'pab_sst': 2, 'pbb_sst': 2}\n"
     ]
    },
    {
     "name": "stderr",
     "output_type": "stream",
     "text": [
      "/Users/theja/miniconda3/lib/python3.7/site-packages/scipy/optimize/minpack.py:162: RuntimeWarning: The iteration is not making good progress, as measured by the \n",
      "  improvement from the last ten iterations.\n",
      "  warnings.warn(msg, RuntimeWarning)\n"
     ]
    }
   ],
   "source": [
    "#ss region 1\n",
    "ca,cb,la,lb = get_example(1,dist)\n",
    "ml_compare_two_solutions(ca,cb,la,lb,ca+5,npts,deltaf,dist)"
   ]
  },
  {
   "cell_type": "code",
   "execution_count": 6,
   "metadata": {},
   "outputs": [
    {
     "name": "stdout",
     "output_type": "stream",
     "text": [
      "ca 5 cb 0 la 2 lb 1\n",
      "{'paa_sst': 5, 'pba_sst': 3, 'pab_sst': 5, 'pbb_sst': 5}\n"
     ]
    },
    {
     "name": "stderr",
     "output_type": "stream",
     "text": [
      "/Users/theja/miniconda3/lib/python3.7/site-packages/scipy/optimize/minpack.py:162: RuntimeWarning: The iteration is not making good progress, as measured by the \n",
      "  improvement from the last ten iterations.\n",
      "  warnings.warn(msg, RuntimeWarning)\n"
     ]
    }
   ],
   "source": [
    "#ss region 2\n",
    "ca,cb,la,lb = get_example(2,dist)\n",
    "ml_compare_two_solutions(ca,cb,la,lb,ca+5,npts,deltaf,dist)"
   ]
  },
  {
   "cell_type": "code",
   "execution_count": 9,
   "metadata": {},
   "outputs": [
    {
     "name": "stdout",
     "output_type": "stream",
     "text": [
      "ca 1 cb 0 la 2 lb 2\n",
      "{'paa_sst': 1.98, 'pba_sst': 0.99, 'pab_sst': 1.32, 'pbb_sst': 1.6500000000000001}\n"
     ]
    }
   ],
   "source": [
    "#ss region 3\n",
    "ca,cb,la,lb = get_example(3,dist)\n",
    "ml_compare_two_solutions(ca,cb,la,lb,ca+5,npts,deltaf,dist)\n"
   ]
  },
  {
   "cell_type": "code",
   "execution_count": 12,
   "metadata": {},
   "outputs": [
    {
     "name": "stdout",
     "output_type": "stream",
     "text": [
      "ca 3 cb 0 la 1 lb 4\n",
      "{'paa_sst': 3, 'pba_sst': 2, 'pab_sst': 3.3000000000000003, 'pbb_sst': 3.6300000000000003}\n"
     ]
    },
    {
     "name": "stderr",
     "output_type": "stream",
     "text": [
      "/Users/theja/miniconda3/lib/python3.7/site-packages/scipy/optimize/minpack.py:162: RuntimeWarning: The iteration is not making good progress, as measured by the \n",
      "  improvement from the last ten iterations.\n",
      "  warnings.warn(msg, RuntimeWarning)\n"
     ]
    }
   ],
   "source": [
    "#ss region 4\n",
    "ca,cb,la,lb = get_example(4,dist)\n",
    "ml_compare_two_solutions(ca,cb,la,lb,ca+5,npts,deltaf,dist)"
   ]
  },
  {
   "cell_type": "code",
   "execution_count": 15,
   "metadata": {},
   "outputs": [
    {
     "name": "stdout",
     "output_type": "stream",
     "text": [
      "ca 1 cb 0 la 2 lb 2\n",
      "{'paa_sst': 1.98, 'pba_sst': 0.99, 'pab_sst': 1.32, 'pbb_sst': 1.6500000000000001}\n"
     ]
    }
   ],
   "source": [
    "#ml ih theory unique bug\n",
    "deltaf = 0.4\n",
    "ca,cb,la,lb = get_example(3)\n",
    "ml_compare_two_solutions(ca,cb,la,lb,ca+5,npts,deltaf,dist)"
   ]
  }
 ],
 "metadata": {
  "kernelspec": {
   "display_name": "Python 3",
   "language": "python",
   "name": "python3"
  },
  "language_info": {
   "codemirror_mode": {
    "name": "ipython",
    "version": 3
   },
   "file_extension": ".py",
   "mimetype": "text/x-python",
   "name": "python",
   "nbconvert_exporter": "python",
   "pygments_lexer": "ipython3",
   "version": "3.7.6"
  }
 },
 "nbformat": 4,
 "nbformat_minor": 4
}
