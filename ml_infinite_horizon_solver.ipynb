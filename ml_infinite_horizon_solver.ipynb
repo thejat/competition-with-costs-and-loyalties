{
 "cells": [
  {
   "cell_type": "code",
   "execution_count": 1,
   "metadata": {},
   "outputs": [],
   "source": [
    "#verification that each region yileds the equilibrium suggested by theory\n",
    "%load_ext autoreload\n",
    "%autoreload 2\n",
    "from utils.imports import *\n",
    "from utils.single_stage import get_xi_dist, get_example\n",
    "from utils.infinite_horizon import *"
   ]
  },
  {
   "cell_type": "code",
   "execution_count": 2,
   "metadata": {},
   "outputs": [],
   "source": [
    "ca    = 1\n",
    "cb    = 0.2\n",
    "la    = 3\n",
    "lb    = 4\n",
    "maxpx = ca+5\n",
    "npts  = 20\n",
    "deltaf = 0.001\n",
    "dist  = 'uniform'\n",
    "\n",
    "region=3\n",
    "ca,cb,la,lb,paa_sst,pba_sst,pbb_sst,pab_sst = get_example(region)\n",
    "result_ssa = {'paa_sst':paa_sst,'pba_sst':pba_sst}\n",
    "result_ssb = {'pab_sst':pab_sst,'pbb_sst':pbb_sst}"
   ]
  },
  {
   "cell_type": "code",
   "execution_count": 3,
   "metadata": {},
   "outputs": [],
   "source": [
    "#ml ih theory\n",
    "vaao_t,vabo_t,vbbo_t,vbao_t,paa_t,pab_t,pbb_t,pba_t,constr1,constr2 = get_theoretical_px_obj(ca,cb,la,lb,dist,deltaf)\n",
    "result1_t = {'paa':paa_t,'pba':pba_t,'vaa':vaao_t,'vba':vbao_t}\n",
    "result2_t = {'pab':pab_t,'pbb':pbb_t,'vab':vabo_t,'vbb':vbbo_t}\n",
    "result1_t = {x:np.round(y,3) for x,y in result1_t.items()}\n",
    "result2_t = {x:np.round(y,3) for x,y in result2_t.items()}"
   ]
  },
  {
   "cell_type": "code",
   "execution_count": 4,
   "metadata": {},
   "outputs": [
    {
     "name": "stdout",
     "output_type": "stream",
     "text": [
      "{'paa': 2.053, 'pba': 0.947, 'vaa': 0.471, 'vba': 0.525}\n",
      "{'paa': 2.0, 'pba': 0.999, 'vaa': 0.5, 'vba': 0.5}\n",
      "{'paa_sst': 1.98, 'pba_sst': 0.99}\n",
      "{'pab': 1.263, 'pbb': 1.579, 'vab': 0.042, 'vbb': 1.331}\n",
      "{'pab': 1.332, 'pbb': 1.666, 'vab': 0.055, 'vbb': 1.39}\n",
      "{'pab_sst': 1.32, 'pbb_sst': 1.65}\n"
     ]
    }
   ],
   "source": [
    "#ml ih computational\n",
    "result1_c,result2_c = get_computed_px_obj(ca,cb,la,lb,dist,deltaf,maxpx,npts,False,False)\n",
    "print(result1_c)\n",
    "print(result1_t)\n",
    "if deltaf<1e-2: print(result_ssa)\n",
    "print(result2_c)\n",
    "print(result2_t)\n",
    "if deltaf<1e-2: print(result_ssb)"
   ]
  },
  {
   "cell_type": "code",
   "execution_count": null,
   "metadata": {},
   "outputs": [],
   "source": []
  }
 ],
 "metadata": {
  "kernelspec": {
   "display_name": "Python 3",
   "language": "python",
   "name": "python3"
  },
  "language_info": {
   "codemirror_mode": {
    "name": "ipython",
    "version": 3
   },
   "file_extension": ".py",
   "mimetype": "text/x-python",
   "name": "python",
   "nbconvert_exporter": "python",
   "pygments_lexer": "ipython3",
   "version": "3.7.6"
  }
 },
 "nbformat": 4,
 "nbformat_minor": 4
}
