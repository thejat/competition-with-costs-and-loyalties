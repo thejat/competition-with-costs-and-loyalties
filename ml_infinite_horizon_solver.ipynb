{
 "cells": [
  {
   "cell_type": "code",
   "execution_count": 1,
   "metadata": {},
   "outputs": [],
   "source": [
    "#verification that each region yileds the equilibrium suggested by theory\n",
    "%load_ext autoreload\n",
    "%autoreload 2\n",
    "from utils.imports import *\n",
    "from utils.single_stage import get_xi_dist, get_example\n",
    "from utils.infinite_horizon import *"
   ]
  },
  {
   "cell_type": "code",
   "execution_count": 7,
   "metadata": {},
   "outputs": [
    {
     "name": "stdout",
     "output_type": "stream",
     "text": [
      "ca 2 cb 0 la 2 lb 1\n",
      "computed: {'paa': 2.789, 'pba': 1.474, 'vaa': 0.27, 'vba': 0.971, 'xia': 0.658, 'constraint_aa_ba': 1.0}\n",
      "theory: {'paa': 3.0, 'pba': 1.0, 'vaa': 0.5, 'vba': 0.501, 'xia': 0.5, 'constraint_aa_ba': 1.0}\n",
      "computed: {'pab': 2.263, 'pbb': 2.579, 'vab': 0.083, 'vbb': 1.766, 'xib': 0.316, 'constraint_bb_ab': 1.0}\n",
      "theory: {'pab': 2.5, 'pbb': 0.5, 'vab': 0.25, 'vbb': 0.251, 'xib': 0.5, 'constraint_bb_ab': 0.0}\n",
      "{'paa_sst': 2.64, 'pba_sst': 1.32}\n",
      "{'pab_sst': 2, 'pbb_sst': 2}\n"
     ]
    }
   ],
   "source": [
    "#ss region 1\n",
    "deltaf = 0.001\n",
    "npts  = 20\n",
    "dist  = 'uniform'\n",
    "ca,cb,la,lb,paa_sst,pba_sst,pbb_sst,pab_sst = get_example(1,dist)\n",
    "maxpx = ca+5\n",
    "get_both_solutions(ca,cb,la,lb,maxpx,npts,deltaf,dist)\n",
    "if deltaf<1e-2 and dist=='uniform': \n",
    "    result_ssa = {'paa_sst':paa_sst,'pba_sst':pba_sst}\n",
    "    result_ssb = {'pab_sst':pab_sst,'pbb_sst':pbb_sst}\n",
    "    print(result_ssa)\n",
    "    print(result_ssb)"
   ]
  },
  {
   "cell_type": "code",
   "execution_count": 3,
   "metadata": {},
   "outputs": [
    {
     "name": "stdout",
     "output_type": "stream",
     "text": [
      "ca 5 cb 0 la 2 lb 1\n"
     ]
    },
    {
     "name": "stderr",
     "output_type": "stream",
     "text": [
      "/Users/theja/miniconda3/lib/python3.7/site-packages/scipy/optimize/minpack.py:162: RuntimeWarning: The iteration is not making good progress, as measured by the \n",
      "  improvement from the last ten iterations.\n",
      "  warnings.warn(msg, RuntimeWarning)\n"
     ]
    },
    {
     "name": "stdout",
     "output_type": "stream",
     "text": [
      "computed: {'paa': 5.263, 'pba': 3.684, 'vaa': 0.056, 'vba': 2.912, 'xia': 0.789, 'constraint_aa_ba': 1.0}\n",
      "theory: {'paa': 6.0, 'pba': 1.0, 'vaa': 0.5, 'vba': 0.501, 'xia': 0.5, 'constraint_aa_ba': 0.0}\n",
      "computed: {'pab': 5.526, 'pbb': 5.789, 'vab': 0.139, 'vbb': 4.073, 'xib': 0.263, 'constraint_bb_ab': 1.0}\n",
      "theory: {'pab': 5.5, 'pbb': 0.5, 'vab': 0.25, 'vbb': 0.251, 'xib': 0.5, 'constraint_bb_ab': 0.0}\n",
      "{'paa_sst': 5, 'pba_sst': 3}\n",
      "{'pab_sst': 5, 'pbb_sst': 5}\n"
     ]
    }
   ],
   "source": [
    "#ss region 2\n",
    "deltaf = 0.001\n",
    "npts  = 20\n",
    "dist  = 'uniform'\n",
    "ca,cb,la,lb,paa_sst,pba_sst,pbb_sst,pab_sst = get_example(2,dist)\n",
    "maxpx = ca+5\n",
    "get_both_solutions(ca,cb,la,lb,maxpx,npts,deltaf,dist)\n",
    "if deltaf<1e-2 and dist=='uniform': \n",
    "    result_ssa = {'paa_sst':paa_sst,'pba_sst':pba_sst}\n",
    "    result_ssb = {'pab_sst':pab_sst,'pbb_sst':pbb_sst}\n",
    "    print(result_ssa)\n",
    "    print(result_ssb)"
   ]
  },
  {
   "cell_type": "code",
   "execution_count": 6,
   "metadata": {},
   "outputs": [
    {
     "name": "stdout",
     "output_type": "stream",
     "text": [
      "ca 1 cb 0 la 2 lb 2\n",
      "computed: {'paa': 2.053, 'pba': 0.947, 'vaa': 0.471, 'vba': 0.525, 'xia': 0.553, 'constraint_aa_ba': 1.0}\n",
      "theory: {'paa': 2.0, 'pba': 0.999, 'vaa': 0.5, 'vba': 0.5, 'xia': 0.5, 'constraint_aa_ba': 1.0}\n",
      "computed: {'pab': 1.263, 'pbb': 1.579, 'vab': 0.042, 'vbb': 1.331, 'xib': 0.158, 'constraint_bb_ab': 1.0}\n",
      "theory: {'pab': 1.332, 'pbb': 1.666, 'vab': 0.055, 'vbb': 1.39, 'xib': 0.166, 'constraint_bb_ab': 1.0}\n",
      "{'paa_sst': 1.98, 'pba_sst': 0.99}\n",
      "{'pab_sst': 1.32, 'pbb_sst': 1.65}\n"
     ]
    }
   ],
   "source": [
    "#ss region 3\n",
    "deltaf = 0.001\n",
    "npts  = 20\n",
    "dist  = 'uniform'\n",
    "ca,cb,la,lb,paa_sst,pba_sst,pbb_sst,pab_sst = get_example(3,dist)\n",
    "maxpx = ca+5\n",
    "get_both_solutions(ca,cb,la,lb,maxpx,npts,deltaf,dist)\n",
    "if deltaf<1e-2 and dist=='uniform': \n",
    "    result_ssa = {'paa_sst':paa_sst,'pba_sst':pba_sst}\n",
    "    result_ssb = {'pab_sst':pab_sst,'pbb_sst':pbb_sst}\n",
    "    print(result_ssa)\n",
    "    print(result_ssb)"
   ]
  },
  {
   "cell_type": "code",
   "execution_count": 8,
   "metadata": {},
   "outputs": [
    {
     "name": "stdout",
     "output_type": "stream",
     "text": [
      "ca 3 cb 0 la 1 lb 4\n",
      "computed: {'paa': 3.263, 'pba': 2.526, 'vaa': 0.069, 'vba': 1.865, 'xia': 0.737, 'constraint_aa_ba': 1.0}\n",
      "theory: {'paa': 3.501, 'pba': 0.499, 'vaa': 0.251, 'vba': 0.25, 'xia': 0.5, 'constraint_aa_ba': 0.0}\n",
      "computed: {'pab': 3.263, 'pbb': 3.789, 'vab': 0.035, 'vbb': 3.419, 'xib': 0.132, 'constraint_bb_ab': 1.0}\n",
      "theory: {'pab': 5.001, 'pbb': 1.999, 'vab': 1.001, 'vbb': 1.0, 'xib': 0.5, 'constraint_bb_ab': 0.0}\n",
      "{'paa_sst': 3, 'pba_sst': 2}\n",
      "{'pab_sst': 3.3, 'pbb_sst': 3.63}\n"
     ]
    }
   ],
   "source": [
    "#ss region 4\n",
    "deltaf = 0.001\n",
    "npts  = 20\n",
    "dist  = 'uniform'\n",
    "ca,cb,la,lb,paa_sst,pba_sst,pbb_sst,pab_sst = get_example(4,dist)\n",
    "maxpx = ca+5\n",
    "get_both_solutions(ca,cb,la,lb,maxpx,npts,deltaf,dist)\n",
    "if deltaf<1e-2 and dist=='uniform': \n",
    "    result_ssa = {'paa_sst':paa_sst,'pba_sst':pba_sst}\n",
    "    result_ssb = {'pab_sst':pab_sst,'pbb_sst':pbb_sst}\n",
    "    print(result_ssa)\n",
    "    print(result_ssb)"
   ]
  },
  {
   "cell_type": "code",
   "execution_count": 27,
   "metadata": {},
   "outputs": [
    {
     "name": "stdout",
     "output_type": "stream",
     "text": [
      "computed: {'paa': 2.516, 'pba': 1.147, 'vaa': 0.991, 'vba': 1.224, 'xia': 0.456, 'constraint_aa_ba': 1.0}\n",
      "theory: {'paa': 2.636, 'pba': 0.393, 'vaa': 1.212, 'vba': 0.732, 'xia': 0.383, 'constraint_aa_ba': 1.0}\n",
      "computed: {'pab': 1.726, 'pbb': 2.726, 'vab': 0.33, 'vbb': 2.882, 'xib': 0.25, 'constraint_bb_ab': 1.0}\n",
      "theory: {'pab': 1.421, 'pbb': 2.607, 'vab': 0.17, 'vbb': 3.119, 'xib': 0.159, 'constraint_bb_ab': 1.0}\n"
     ]
    }
   ],
   "source": [
    "#ml ih theory unique\n",
    "deltaf = 0.4\n",
    "npts  = 20\n",
    "dist  = 'uniform'\n",
    "ca     = 1.2\n",
    "cb     = 0.2\n",
    "la     =   3\n",
    "lb     =   4\n",
    "maxpx = ca+5\n",
    "get_both_solutions(ca,cb,la,lb,maxpx,npts,deltaf,dist)"
   ]
  },
  {
   "cell_type": "code",
   "execution_count": null,
   "metadata": {},
   "outputs": [],
   "source": []
  }
 ],
 "metadata": {
  "kernelspec": {
   "display_name": "Python 3",
   "language": "python",
   "name": "python3"
  },
  "language_info": {
   "codemirror_mode": {
    "name": "ipython",
    "version": 3
   },
   "file_extension": ".py",
   "mimetype": "text/x-python",
   "name": "python",
   "nbconvert_exporter": "python",
   "pygments_lexer": "ipython3",
   "version": "3.7.6"
  }
 },
 "nbformat": 4,
 "nbformat_minor": 4
}
