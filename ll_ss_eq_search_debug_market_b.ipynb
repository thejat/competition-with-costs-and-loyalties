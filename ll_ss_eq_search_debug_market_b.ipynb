{
 "cells": [
  {
   "cell_type": "code",
   "execution_count": 1,
   "metadata": {},
   "outputs": [],
   "source": [
    "#this script checks the general sum finite strategy eq proposed by theory is correct or not\n",
    "# only works for ML single state regions 1+3 and 3+4 because the focus is on firm B's stromg submarket\n",
    "# similarly, only works for AL regions 1+2+3 and 4+5+6 together\n",
    "\n",
    "%load_ext autoreload\n",
    "%autoreload 2\n",
    "from utils.imports import *\n",
    "from utils.single_stage import *\n",
    "from utils.utils import *"
   ]
  },
  {
   "cell_type": "code",
   "execution_count": 2,
   "metadata": {},
   "outputs": [],
   "source": [
    "# Parameters\n",
    "\n",
    "dist  = 'uniform'\n",
    "npts = 100\n",
    "\n",
    "# ca,cb,la,lb,sa,sb = ml_get_example_in_region(region=1) #ML region I and II: ca-cb > lb\n",
    "# ca,cb,la,lb,sa,sb = ml_get_example_in_region(region=3) #ML region III and IV: ca-cb < lb\n",
    "# ca,cb,la,lb,sa,sb = al_get_example_in_region(region=1) #AL region 1, 2 and 3: ca-cb > 1-sb\n",
    "ca,cb,la,lb,sa,sb = al_get_example_in_region(region=4) #AL region 4 and 5: ca-cb < 1-sb"
   ]
  },
  {
   "cell_type": "code",
   "execution_count": 3,
   "metadata": {},
   "outputs": [
    {
     "name": "stdout",
     "output_type": "stream",
     "text": [
      "ca,cb,la,lb,sa,sb 0.5 0 1 1 1.8 0.1\n",
      "pbb_t,pab_t: 0.867 0.633\n",
      "objbb_t,objab_t,constraint: 0.750822 0.017822 True\n"
     ]
    }
   ],
   "source": [
    "#Theory\n",
    "print('ca,cb,la,lb,sa,sb',ca,cb,la,lb,sa,sb)\n",
    "_,_,pbb_t,pab_t = ll_get_metrics_theory(dist,ca,cb,la,lb,sa,sb)\n",
    "objbb_t,objab_t,flag_constraint = ll_get_objective_vals_at(dist,pbb_t,pab_t,cb,ca,lb,sb,market='B-strong-sub-market')\n",
    "print('pbb_t,pab_t:',pbb_t,pab_t)\n",
    "print('objbb_t,objab_t,constraint:',objbb_t,objab_t,flag_constraint)"
   ]
  },
  {
   "cell_type": "code",
   "execution_count": 4,
   "metadata": {},
   "outputs": [],
   "source": [
    "#Computational\n",
    "pbb_arr,pab_arr,objbb,objab,constraintmat = ll_get_payoff_matrices_for_exhaustive(dist,npts,cb,ca,pbb_t,pab_t,lb,sb,market='B-strong-sub-market')"
   ]
  },
  {
   "cell_type": "code",
   "execution_count": 5,
   "metadata": {},
   "outputs": [],
   "source": [
    "# get_plot_constraint_using_plotly(pbb_arr,pab_arr,constraintmat,xname='pab',yname='pbb')\n",
    "# get_plot_payoffs_using_plotly(objbb,objab,pbb_arr,pab_arr)"
   ]
  },
  {
   "cell_type": "code",
   "execution_count": 6,
   "metadata": {},
   "outputs": [
    {
     "name": "stdout",
     "output_type": "stream",
     "text": [
      "equlibrium found: 0.867 0.633\n"
     ]
    }
   ],
   "source": [
    "#obtain all equilibria\n",
    "F,f = get_xi_dist(dist)\n",
    "for i,pbb_c in enumerate(pbb_arr):\n",
    "    for j,pab_c in enumerate(pab_arr):\n",
    "        if ll_ss_is_equlibrium_exhaustive(pbb_arr,pab_arr,pbb_c,pab_c,objbb,objab,F,cb,ca,lb,sb):\n",
    "            print('equlibrium found:',pbb_c,pab_c)"
   ]
  },
  {
   "cell_type": "code",
   "execution_count": 7,
   "metadata": {},
   "outputs": [
    {
     "name": "stdout",
     "output_type": "stream",
     "text": [
      "theory candidate is equilibrium: True\n"
     ]
    }
   ],
   "source": [
    "#Compare equilibria with the theory candidate\n",
    "print('theory candidate is equilibrium:',ll_ss_is_equlibrium_exhaustive(pbb_arr,pab_arr,pbb_t,pab_t,objbb,objab,F,cb,ca,lb,sb))"
   ]
  },
  {
   "cell_type": "code",
   "execution_count": null,
   "metadata": {},
   "outputs": [],
   "source": []
  }
 ],
 "metadata": {
  "kernelspec": {
   "display_name": "Python 3",
   "language": "python",
   "name": "python3"
  },
  "language_info": {
   "codemirror_mode": {
    "name": "ipython",
    "version": 3
   },
   "file_extension": ".py",
   "mimetype": "text/x-python",
   "name": "python",
   "nbconvert_exporter": "python",
   "pygments_lexer": "ipython3",
   "version": "3.7.6"
  }
 },
 "nbformat": 4,
 "nbformat_minor": 2
}
