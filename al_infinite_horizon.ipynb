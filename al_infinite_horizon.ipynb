{
 "cells": [
  {
   "cell_type": "code",
   "execution_count": null,
   "metadata": {
    "scrolled": false
   },
   "outputs": [],
   "source": [
    "#Plot for the duopoly price discrimination model with loyalty and costs: Infinite horizon Mult Loyalty ML case\n",
    "#this is applicable only for uniform F and when delta_a = delta_b = delta_F (hardcode)\n",
    "#naming convention: _fm_ means firms are 'f'orward looking and customers are 'm'yopic\n",
    "\n",
    "%load_ext autoreload\n",
    "%autoreload 2\n",
    "from utils.imports import *\n",
    "from utils.infinite_horizon import ll_get_metric_arrs_vs_camcb\n",
    "from utils.utils import *"
   ]
  },
  {
   "cell_type": "code",
   "execution_count": null,
   "metadata": {
    "scrolled": false
   },
   "outputs": [],
   "source": [
    "#keep cb fixed\n",
    "flag_theory = True\n",
    "flag_plot = True\n",
    "flag_retrieve_stored_df = False\n",
    "flag_store_df = True\n",
    "cb     = 0.6\n",
    "la     =   1\n",
    "lb     =   1\n",
    "sa     =   0.1\n",
    "sb     =   0.05\n",
    "deltaf = 0.6 #common discount function\n",
    "dist = 'uniform'\n",
    "npts=100\n",
    "if flag_theory:\n",
    "    fprefix = \"./output/al_ih_fm_unc\" #signifying 'unconsrtained prices'\n",
    "    ca_arr = np.linspace(cb,cb+.25,20) #ensure ca >= cb\n",
    "else:\n",
    "    fprefix = \"./output/al_ih_fm_c\" #signifying 'consrtained prices'\n",
    "    ca_arr = np.linspace(cb,cb+2,20) #ensure ca >= cb\n",
    "ca_m_cb_arr = ca_arr - cb\n",
    "maxpx=ca_arr.max()+5"
   ]
  },
  {
   "cell_type": "code",
   "execution_count": null,
   "metadata": {
    "scrolled": false
   },
   "outputs": [],
   "source": [
    "if flag_retrieve_stored_df is True:\n",
    "    df = pd.read_pickle(fprefix+'.pkl')\n",
    "else:\n",
    "    df = ll_get_metric_arrs_vs_camcb(dist,deltaf, ca_arr,cb,la,lb,sa,sb,flag_theory=flag_theory,maxpx=maxpx,npts=npts,show_progress=False,plot_path=False)\n",
    "    if flag_store_df is True:\n",
    "        df.to_pickle(fprefix+'.pkl')"
   ]
  },
  {
   "cell_type": "code",
   "execution_count": null,
   "metadata": {
    "scrolled": false
   },
   "outputs": [],
   "source": [
    "# plot of price constraints indicator functions\n",
    "labels_constraints_loyalty=[r'$0 \\leq p_{A}^{\\alpha} - p_{B}^{\\alpha} \\leq l_{\\alpha}$',r'$0 \\leq p_{B}^{\\beta} - p_{A}^{\\beta} \\leq l_{\\beta}$']\n",
    "fname_constraints_loyalty = fprefix+\"_constraints_loyalty.png\" if flag_plot else None\n",
    "plot_curves_vs_camcb(df['constraint_aa_ba_arr'],df['constraint_bb_ab_arr'],ca_m_cb_arr,'Loyalty Constraints Satisfied',labels_constraints_loyalty,None,None,fname_constraints_loyalty)"
   ]
  },
  {
   "cell_type": "code",
   "execution_count": null,
   "metadata": {},
   "outputs": [],
   "source": [
    "# plot of price constraints indicator functions\n",
    "labels_constraints_firm=[r'$c_a \\leq p_{A}^{\\beta} \\leq p_{A}^{\\alpha}$',r'$c_b \\leq p_{B}^{\\alpha} \\leq p_{B}^{\\beta}$']\n",
    "fname_constraints_firm = fprefix+\"_constraints_firm.png\" if flag_plot else None\n",
    "plot_curves_vs_camcb(df['constraint_cross_a_arr'],df['constraint_cross_a_arr'],ca_m_cb_arr,'Firm Constraints Satisfied',labels_constraints_firm,None,None,fname_constraints_firm)"
   ]
  },
  {
   "cell_type": "code",
   "execution_count": null,
   "metadata": {
    "scrolled": false
   },
   "outputs": [],
   "source": [
    "# plot of prices paa and pba\n",
    "labels_prices_a=[r'$p_{A}^{\\alpha}$',r'$p_{B}^{\\alpha}$']\n",
    "fname_prices_a = fprefix+\"_paa_pba.png\" if flag_plot else None\n",
    "plot_curves_vs_camcb(df['paa'],df['pba'],ca_m_cb_arr,'Prices',labels_prices_a,None,None,fname_prices_a)"
   ]
  },
  {
   "cell_type": "code",
   "execution_count": null,
   "metadata": {
    "scrolled": false
   },
   "outputs": [],
   "source": [
    "# plot of prices pbb and pab\n",
    "labels_prices_b=[r'$p_{B}^{\\beta}$',r'$p_{A}^{\\beta}$']\n",
    "fname_prices_b = fprefix+\"_pbb_pab.png\" if flag_plot else None\n",
    "plot_curves_vs_camcb(df['pbb'],df['pab'],ca_m_cb_arr,'Prices',labels_prices_b,None,None,fname_prices_b)"
   ]
  },
  {
   "cell_type": "code",
   "execution_count": null,
   "metadata": {},
   "outputs": [],
   "source": [
    "# plot of profits for firm A and B\n",
    "labels_profit=[r'Firm A',r'Firm B']\n",
    "fname_profit = fprefix+\"_profits.png\" if flag_plot else None\n",
    "plot_curves_vs_camcb(df['total_profit_a'],df['total_profit_b'],ca_m_cb_arr,'Profit',labels_profit,None,None,fname_profit)"
   ]
  },
  {
   "cell_type": "code",
   "execution_count": null,
   "metadata": {
    "scrolled": false
   },
   "outputs": [],
   "source": [
    "# plot of xia and xib\n",
    "labels4=[r'$\\xi^{\\alpha}$',r'$\\xi^{\\beta}$']\n",
    "fname_xis = fprefix+\"_xis.png\" if flag_plot else None\n",
    "plot_curves_vs_camcb(df['xia'],df['xib'],ca_m_cb_arr,'Loyalty Threshold',labels4,None,None,fname_xis)"
   ]
  },
  {
   "cell_type": "code",
   "execution_count": null,
   "metadata": {},
   "outputs": [],
   "source": [
    "# plot of prob of purchase of loyal\n",
    "labels_probabilities=[r'Firm A',r'Firm B']\n",
    "fname_probabilities = fprefix+\"_probabilities.png\" if flag_plot else None\n",
    "plot_curves_vs_camcb(df['prob_purchase_a_from_a'],df['prob_purchase_b_from_b'],ca_m_cb_arr,'Prob. of Purchase',labels_probabilities,None,None,fname_probabilities)"
   ]
  },
  {
   "cell_type": "code",
   "execution_count": null,
   "metadata": {},
   "outputs": [],
   "source": [
    "# plot of market share\n",
    "labels_mkt=[r'Firm A',r'Firm B']\n",
    "fname_mkt = fprefix+\"_mkt.png\" if flag_plot else None\n",
    "plot_curves_vs_camcb(df['marketshare_a'],df['marketshare_b'],ca_m_cb_arr,'Market Share',labels_mkt,None,None,fname_mkt)"
   ]
  },
  {
   "cell_type": "code",
   "execution_count": null,
   "metadata": {},
   "outputs": [],
   "source": []
  }
 ],
 "metadata": {
  "kernelspec": {
   "display_name": "Python 3",
   "language": "python",
   "name": "python3"
  },
  "language_info": {
   "codemirror_mode": {
    "name": "ipython",
    "version": 3
   },
   "file_extension": ".py",
   "mimetype": "text/x-python",
   "name": "python",
   "nbconvert_exporter": "python",
   "pygments_lexer": "ipython3",
   "version": "3.8.5"
  }
 },
 "nbformat": 4,
 "nbformat_minor": 2
}
