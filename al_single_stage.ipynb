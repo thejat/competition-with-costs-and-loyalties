{
 "cells": [
  {
   "cell_type": "code",
   "execution_count": null,
   "metadata": {},
   "outputs": [],
   "source": [
    "#Plots for the duopoly price discrimination model with loyalty and costs: Single stage Mult Loyalty ML case\n",
    "\n",
    "%load_ext autoreload\n",
    "%autoreload 2\n",
    "from utils.imports import *\n",
    "from utils.single_stage import *\n",
    "from utils.utils import *"
   ]
  },
  {
   "cell_type": "code",
   "execution_count": null,
   "metadata": {
    "scrolled": true
   },
   "outputs": [],
   "source": [
    "#keep cb fixed and ca is varied\n",
    "flag_plot = True\n",
    "flag_theory = True\n",
    "dist = 'uniform'\n",
    "ca,cb,la,lb,sa,sb = al_get_example_in_region(region=5)\n",
    "print('cb,la,lb,sa,sb:',cb,la,lb,sa,sb)\n",
    "theta = 0.8\n",
    "npts = 40\n",
    "ca_arr = np.linspace(cb,5,30) #ensure ca >= cb, hardcode\n",
    "maxpx = ca_arr.max()+1\n",
    "df = ll_get_metric_arrs_vs_camcb(ca_arr,cb,la,lb,sa,sb,maxpx,npts,dist,theta,flag_theory)\n",
    "ca_m_cb_arr = ca_arr - cb\n"
   ]
  },
  {
   "cell_type": "code",
   "execution_count": null,
   "metadata": {},
   "outputs": [],
   "source": [
    "vert_line_locs1 = [sa-1,sa+2]\n",
    "vert_line_locs1_labels = [r'$c_a - c_b = s_a-1$',r'$c_a-c_b=s_a+2$']\n",
    "labels1=[r'$p_{A}^{\\alpha}$',r'$p_{B}^{\\alpha}$']\n",
    "fname_prices_a = \"./output/al_single_stage_paa_pba.png\" if flag_plot else None\n",
    "plot_curves_vs_camcb(df['paa'],df['pba'],ca_m_cb_arr,'Prices',labels1,vert_line_locs1,vert_line_locs1_labels,fname_prices_a)"
   ]
  },
  {
   "cell_type": "code",
   "execution_count": null,
   "metadata": {},
   "outputs": [],
   "source": [
    "vert_line_locs2 = [1-sb]\n",
    "labels2=[r'$p_{B}^{\\beta}$',r'$p_{A}^{\\beta}$']\n",
    "vert_line_locs2_labels = [r'$c_a - c_b = 1-s_b$']\n",
    "fname_prices_b = \"./output/al_single_stage_pbb_pab.png\" if flag_plot else None\n",
    "plot_curves_vs_camcb(df['pbb'],df['pab'],ca_m_cb_arr,'Prices',labels2,vert_line_locs2,vert_line_locs2_labels,fname_prices_b)\n"
   ]
  },
  {
   "cell_type": "code",
   "execution_count": null,
   "metadata": {},
   "outputs": [],
   "source": [
    "vert_line_locs3 = [1-sb,sa-1,sa+2]\n",
    "labels3=[r'Firm A',r'Firm B']\n",
    "fname_market_share = \"./output/al_single_stage_market_share.png\" if flag_plot else None\n",
    "plot_curves_vs_camcb(df['marketshare_a'],df['marketshare_b'],ca_m_cb_arr,'Market Share',labels3,vert_line_locs3,None,fname_market_share)"
   ]
  },
  {
   "cell_type": "code",
   "execution_count": null,
   "metadata": {},
   "outputs": [],
   "source": [
    "vert_line_locs3 = [1-sb,sa-1,sa+2]\n",
    "labels3=[r'Firm A',r'Firm B']\n",
    "fname_profits = \"./output/al_single_stage_profits.png\" if flag_plot else None\n",
    "plot_curves_vs_camcb(df['total_profit_a'],\n",
    "                     df['total_profit_b'],ca_m_cb_arr,'Profit',labels3,vert_line_locs3,None,fname_profits)"
   ]
  },
  {
   "cell_type": "code",
   "execution_count": null,
   "metadata": {},
   "outputs": [],
   "source": [
    "vert_line_locs3 = [1-sb,sa-1,sa+2]\n",
    "labels3=[r'Firm A',r'Firm B']\n",
    "fname_probabilities = \"./output/al_single_stage_probabilities.png\" if flag_plot else None\n",
    "plot_curves_vs_camcb(df['prob_purchase_a_from_a'],\n",
    "                     df['prob_purchase_b_from_b'],ca_m_cb_arr,'Prob. of Purchase',labels3,vert_line_locs3,None,fname_probabilities)"
   ]
  },
  {
   "cell_type": "code",
   "execution_count": null,
   "metadata": {},
   "outputs": [],
   "source": []
  }
 ],
 "metadata": {
  "kernelspec": {
   "display_name": "Python 3",
   "language": "python",
   "name": "python3"
  },
  "language_info": {
   "codemirror_mode": {
    "name": "ipython",
    "version": 3
   },
   "file_extension": ".py",
   "mimetype": "text/x-python",
   "name": "python",
   "nbconvert_exporter": "python",
   "pygments_lexer": "ipython3",
   "version": "3.7.6"
  }
 },
 "nbformat": 4,
 "nbformat_minor": 2
}
