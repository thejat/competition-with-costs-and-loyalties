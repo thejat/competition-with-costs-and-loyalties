{
 "cells": [
  {
   "cell_type": "code",
   "execution_count": 1,
   "metadata": {},
   "outputs": [],
   "source": [
    "#ML SS Single Instance: verification that an instance yields the equilibrium suggested by theory as well as by computation\n",
    "%load_ext autoreload\n",
    "%autoreload 2\n",
    "from utils.imports import *\n",
    "from utils.single_stage import *"
   ]
  },
  {
   "cell_type": "code",
   "execution_count": 2,
   "metadata": {},
   "outputs": [
    {
     "name": "stdout",
     "output_type": "stream",
     "text": [
      "{'ca': 1, 'cb': 0, 'la': 2, 'lb': 2}\n",
      "{'paa_sst': 1.98, 'pba_sst': 0.99, 'pab_sst': 1.32, 'pbb_sst': 1.65}\n"
     ]
    }
   ],
   "source": [
    "dist  = 'uniform'\n",
    "npts = 100\n",
    "theta = 0.5\n",
    "ca,cb,la,lb,sa,sb = ml_get_example_in_region(3,dist)\n",
    "maxpx = ca+5"
   ]
  },
  {
   "cell_type": "code",
   "execution_count": 3,
   "metadata": {},
   "outputs": [],
   "source": [
    "paa_arr,pba_arr,objaa,objba,constraint_a_arr = ml_get_payoff_matrices_state_a(ca,cb,maxpx,npts,dist,la)\n",
    "pab_arr,pbb_arr,objab,objbb,constraint_b_arr = ml_get_payoff_matrices_state_b(ca,cb,maxpx,npts,dist,lb)"
   ]
  },
  {
   "cell_type": "code",
   "execution_count": 4,
   "metadata": {},
   "outputs": [
    {
     "data": {
      "text/plain": [
       "{'paa': 2.01,\n",
       " 'pba': 1.03,\n",
       " 'pbb': 1.697,\n",
       " 'pab': 1.354,\n",
       " 'objaa': 0.515,\n",
       " 'objba': 0.505,\n",
       " 'objbb': 1.406,\n",
       " 'objab': 0.061}"
      ]
     },
     "execution_count": 4,
     "metadata": {},
     "output_type": "execute_result"
    }
   ],
   "source": [
    "compute_single_stage_equilibrium(objaa,objba,objbb,objab,paa_arr,pba_arr,pbb_arr,pab_arr)"
   ]
  },
  {
   "cell_type": "code",
   "execution_count": 5,
   "metadata": {},
   "outputs": [
    {
     "data": {
      "text/html": [
       "<div>\n",
       "<style scoped>\n",
       "    .dataframe tbody tr th:only-of-type {\n",
       "        vertical-align: middle;\n",
       "    }\n",
       "\n",
       "    .dataframe tbody tr th {\n",
       "        vertical-align: top;\n",
       "    }\n",
       "\n",
       "    .dataframe thead th {\n",
       "        text-align: right;\n",
       "    }\n",
       "</style>\n",
       "<table border=\"1\" class=\"dataframe\">\n",
       "  <thead>\n",
       "    <tr style=\"text-align: right;\">\n",
       "      <th></th>\n",
       "      <th>paa</th>\n",
       "      <th>pba</th>\n",
       "      <th>pbb</th>\n",
       "      <th>pab</th>\n",
       "      <th>objaa</th>\n",
       "      <th>objba</th>\n",
       "      <th>objbb</th>\n",
       "      <th>objab</th>\n",
       "      <th>marketshare_a</th>\n",
       "      <th>marketshare_b</th>\n",
       "      <th>total_profit_a</th>\n",
       "      <th>total_profit_b</th>\n",
       "      <th>prob_purchase_a_from_a</th>\n",
       "      <th>prob_purchase_b_from_b</th>\n",
       "    </tr>\n",
       "  </thead>\n",
       "  <tbody>\n",
       "    <tr>\n",
       "      <th>0</th>\n",
       "      <td>1.98</td>\n",
       "      <td>0.99</td>\n",
       "      <td>1.65</td>\n",
       "      <td>1.32</td>\n",
       "      <td>0.4949</td>\n",
       "      <td>0.49005</td>\n",
       "      <td>1.37775</td>\n",
       "      <td>0.0528</td>\n",
       "      <td>0.335</td>\n",
       "      <td>0.665</td>\n",
       "      <td>0.27385</td>\n",
       "      <td>0.9339</td>\n",
       "      <td>0.505</td>\n",
       "      <td>0.835</td>\n",
       "    </tr>\n",
       "  </tbody>\n",
       "</table>\n",
       "</div>"
      ],
      "text/plain": [
       "    paa   pba   pbb   pab   objaa    objba    objbb   objab  marketshare_a  \\\n",
       "0  1.98  0.99  1.65  1.32  0.4949  0.49005  1.37775  0.0528          0.335   \n",
       "\n",
       "   marketshare_b  total_profit_a  total_profit_b  prob_purchase_a_from_a  \\\n",
       "0          0.665         0.27385          0.9339                   0.505   \n",
       "\n",
       "   prob_purchase_b_from_b  \n",
       "0                   0.835  "
      ]
     },
     "execution_count": 5,
     "metadata": {},
     "output_type": "execute_result"
    }
   ],
   "source": [
    "df = ml_get_metric_arrs_vs_camcb(np.array([ca]),cb,la,lb,dist,theta,flag_theory=True)\n",
    "df"
   ]
  }
 ],
 "metadata": {
  "kernelspec": {
   "display_name": "Python 3",
   "language": "python",
   "name": "python3"
  },
  "language_info": {
   "codemirror_mode": {
    "name": "ipython",
    "version": 3
   },
   "file_extension": ".py",
   "mimetype": "text/x-python",
   "name": "python",
   "nbconvert_exporter": "python",
   "pygments_lexer": "ipython3",
   "version": "3.7.6"
  }
 },
 "nbformat": 4,
 "nbformat_minor": 4
}
