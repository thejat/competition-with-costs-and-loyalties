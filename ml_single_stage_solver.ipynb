{
 "cells": [
  {
   "cell_type": "code",
   "execution_count": 1,
   "metadata": {},
   "outputs": [],
   "source": [
    "#verification that each region yileds the equilibrium suggested by theory\n",
    "%load_ext autoreload\n",
    "%autoreload 2\n",
    "from utils.imports import *\n",
    "from utils.single_stage import *\n",
    "from utils.single_stage_old import get_payoffs_a,get_payoffs_b,get_computed_equilibrium,constraints_a,constraints_b"
   ]
  },
  {
   "cell_type": "code",
   "execution_count": 2,
   "metadata": {},
   "outputs": [
    {
     "name": "stdout",
     "output_type": "stream",
     "text": [
      "{'ca': 1, 'cb': 0, 'la': 2, 'lb': 2}\n",
      "{'paa_sst': 1.98, 'pba_sst': 0.99, 'pab_sst': 1.32, 'pbb_sst': 1.65}\n"
     ]
    }
   ],
   "source": [
    "dist  = 'uniform'\n",
    "npts = 20\n",
    "ca,cb,la,lb = ml_get_example_in_region(3,dist)\n",
    "maxpx = ca+5"
   ]
  },
  {
   "cell_type": "code",
   "execution_count": 3,
   "metadata": {},
   "outputs": [],
   "source": [
    "paa_arr,pba_arr,objaa,objba,constraint_a_arr = ml_get_payoff_matrices_state_a(ca,cb,maxpx,npts,dist,la)\n",
    "pab_arr,pbb_arr,objab,objbb,constraint_b_arr = ml_get_payoff_matrices_state_b(ca,cb,maxpx,npts,dist,lb)"
   ]
  },
  {
   "cell_type": "code",
   "execution_count": 4,
   "metadata": {},
   "outputs": [
    {
     "data": {
      "text/plain": [
       "{'paa': 2.053,\n",
       " 'pba': 0.947,\n",
       " 'pbb': 1.579,\n",
       " 'pab': 1.263,\n",
       " 'objaa': 0.471,\n",
       " 'objba': 0.524,\n",
       " 'objbb': 1.33,\n",
       " 'objab': 0.042}"
      ]
     },
     "execution_count": 4,
     "metadata": {},
     "output_type": "execute_result"
    }
   ],
   "source": [
    "compute_single_stage_equilibrium(objaa,objba,objbb,objab,paa_arr,pba_arr,pbb_arr,pab_arr)"
   ]
  },
  {
   "cell_type": "code",
   "execution_count": 5,
   "metadata": {},
   "outputs": [
    {
     "name": "stdout",
     "output_type": "stream",
     "text": [
      "A's strong sub-market (computed:paa,pba,objaa,objba,constraintA): 2.053 0.947 0.471 0.524 True\n",
      "B's strong sub-market (computed:pbb,pab,objbb,objab,constraintB): 1.579 1.263 1.33 0.042 True\n"
     ]
    }
   ],
   "source": [
    "paa_arr,pba_arr,objaa,objba,cmata = get_payoffs_a(ca,cb,maxpx,npts,dist,la)\n",
    "pbb_arr,pab_arr,objbb,objab,cmatb = get_payoffs_b(ca,cb,maxpx,npts,dist,lb)\n",
    "\n",
    "paa_c,pba_c,objaa_c,objba_c = get_computed_equilibrium([np.array([objaa,objba])],paa_arr,pba_arr)\n",
    "pbb_c,pab_c,objbb_c,objab_c = get_computed_equilibrium([np.array([objbb,objab])],pbb_arr,pab_arr)\n",
    "\n",
    "# print('A\\'s strong sub-market (theoretical:paa,pba,objaa,objba,constraintA):',\n",
    "#       paa_t,pba_t,objaa_t,objba_t,constraints_a(paa_t,pba_t,ca,cb,la))\n",
    "print('A\\'s strong sub-market (computed:paa,pba,objaa,objba,constraintA):',\n",
    "      paa_c,pba_c,objaa_c,objba_c,constraints_a(paa_c,pba_c,ca,cb,la))\n",
    "# print('B\\'s strong sub-market (theoretical:pbb,pab,objbb,objab,constraintB):',\n",
    "#       pbb_t,pab_t,objbb_t,objab_t,constraints_b(pbb_t,pab_t,cb,ca,lb))\n",
    "print('B\\'s strong sub-market (computed:pbb,pab,objbb,objab,constraintB):',\n",
    "      pbb_c,pab_c,objbb_c,objab_c,constraints_b(pbb_c,pab_c,cb,ca,lb))"
   ]
  },
  {
   "cell_type": "code",
   "execution_count": null,
   "metadata": {},
   "outputs": [],
   "source": []
  }
 ],
 "metadata": {
  "kernelspec": {
   "display_name": "Python 3",
   "language": "python",
   "name": "python3"
  },
  "language_info": {
   "codemirror_mode": {
    "name": "ipython",
    "version": 3
   },
   "file_extension": ".py",
   "mimetype": "text/x-python",
   "name": "python",
   "nbconvert_exporter": "python",
   "pygments_lexer": "ipython3",
   "version": "3.7.6"
  }
 },
 "nbformat": 4,
 "nbformat_minor": 4
}
