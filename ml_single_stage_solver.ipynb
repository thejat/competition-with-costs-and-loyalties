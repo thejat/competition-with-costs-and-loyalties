{
 "cells": [
  {
   "cell_type": "code",
   "execution_count": 1,
   "metadata": {},
   "outputs": [],
   "source": [
    "#verification that ca-bc < 2ta yileds a unique equilibrium because the unconstrained solution is valid\n",
    "\n",
    "#Core scientific modules\n",
    "import numpy as np\n",
    "from scipy.stats import uniform, norm\n",
    "def perc_75(x): return np.percentile(x,75) #Percentile calculations\n",
    "def perc_25(x): return np.percentile(x,25)\n",
    "\n",
    "#Pandas, fileIO\n",
    "import os, glob\n",
    "import pandas as pd\n",
    "pd.options.display.max_columns = None\n",
    "pd.options.display.max_rows = 100\n",
    "\n",
    "#Plotting, display\n",
    "from IPython.display import display, Markdown\n",
    "from matplotlib import pyplot as plt, rcParams\n",
    "from cycler import cycler\n",
    "import seaborn as sns\n",
    "import plotly.express as px\n",
    "import plotly.graph_objects as go\n",
    "from plotly.subplots import make_subplots\n",
    "sns.set(style = \"white\", context=\"paper\")\n",
    "notebook_default_rcparams = { #Set default RC parameters\n",
    "    \"axes.labelsize\": 30,\n",
    "    \"legend.fontsize\":24,\n",
    "    \"xtick.labelsize\":28,\n",
    "    \"ytick.labelsize\":28,\n",
    "    \"axes.grid\":True,\n",
    "    \"legend.framealpha\":0.5,\n",
    "    \"lines.linewidth\":5,\n",
    "    \"legend.loc\":'upper left'}\n",
    "rcParams.update(notebook_default_rcparams)\n",
    "pltsettings ={'color':'blue', 'linestyle':'-','marker':'.','alpha':0.5}"
   ]
  },
  {
   "cell_type": "code",
   "execution_count": 9,
   "metadata": {},
   "outputs": [],
   "source": [
    "# Data for plotting\n",
    "\n",
    "# #########region ca-cb < 2ta\n",
    "# ca    = 0\n",
    "# cb    = 0\n",
    "# ta    = 3\n",
    "# paa_analytical = 0.33*(2*ca+cb+2*ta)\n",
    "# pba_analytical = 0.33*(2*cb+ca+ta)\n",
    "\n",
    "#########region ca-cb > 2ta\n",
    "ca    = 8\n",
    "cb    = 1\n",
    "ta    = 3\n",
    "paa_analytical = ca\n",
    "pba_analytical = ca - ta\n",
    "\n",
    "\n",
    "\n",
    "dist  = 'uniform'\n",
    "maxpx = ca+5\n",
    "npts = 100\n",
    "paa_arr = np.linspace(ca,maxpx,npts)\n",
    "pba_arr = np.linspace(cb,maxpx,npts)\n",
    "obja = np.zeros((paa_arr.size,pba_arr.size))\n",
    "objb = np.zeros((paa_arr.size,pba_arr.size))\n",
    "constraintmat = np.zeros((paa_arr.size,pba_arr.size))\n",
    "\n",
    "def get_xi_objects(dist='normal'):\n",
    "    if dist=='uniform':\n",
    "        return (np.arange(0.0, 1.0, 0.1),uniform.cdf,uniform.pdf)\n",
    "    return (np.arange(-1.0, 1.0, 0.1),norm.cdf,norm.pdf)\n",
    "def constraints(paa,pba,ca,cb,ta):\n",
    "    if paa >= ca and pba >= cb and (0 <= paa-pba) and  (paa-pba <= ta):\n",
    "        return True\n",
    "    else:\n",
    "        return False"
   ]
  },
  {
   "cell_type": "code",
   "execution_count": 10,
   "metadata": {},
   "outputs": [],
   "source": [
    "_,F,f = get_xi_objects(dist)\n",
    "for i,paa in enumerate(paa_arr):\n",
    "    for j,pba in enumerate(pba_arr):\n",
    "        if constraints(paa,pba,ca,cb,ta):\n",
    "            constraintmat[i,j] = 1 \n",
    "            obja[i,j] = (paa-ca)*(1-F((paa-pba)/ta))\n",
    "            objb[i,j] = (pba-cb)*F((paa-pba)/ta)"
   ]
  },
  {
   "cell_type": "code",
   "execution_count": 11,
   "metadata": {},
   "outputs": [
    {
     "name": "stdout",
     "output_type": "stream",
     "text": [
      "analytical prices: 8 5\n",
      "objective values: 0.0 4.0\n"
     ]
    }
   ],
   "source": [
    "print('analytical prices:',paa_analytical,pba_analytical)\n",
    "obja_analytical = (paa_analytical-ca)*(1-F((paa_analytical-pba_analytical)/ta))\n",
    "objb_analytical = (pba_analytical-cb)*F((paa_analytical-pba_analytical)/ta)\n",
    "print('objective values:',obja_analytical,objb_analytical)\n",
    "#constraints(paa_analytical,pba_analytical,ca,cb,ta)"
   ]
  },
  {
   "cell_type": "code",
   "execution_count": 12,
   "metadata": {},
   "outputs": [
    {
     "name": "stdout",
     "output_type": "stream",
     "text": [
      "computed prices: 8.1010101010101 5.242424242424242\n",
      "computed values: [[0.005 4.044]]\n"
     ]
    }
   ],
   "source": [
    "from dsGameSolver.gameSolver import dsSolve\n",
    "\n",
    "payoffMatrices = [np.array([obja,objb])]\n",
    "equilibrium = dsSolve(payoffMatrices)\n",
    "eq_indices = np.argmax(equilibrium['strategies'][0],axis=1)\n",
    "print('computed prices:',paa_arr[eq_indices[0]],pba_arr[eq_indices[1]])\n",
    "print('computed values:',np.round(equilibrium['stateValues'],3))"
   ]
  },
  {
   "cell_type": "code",
   "execution_count": null,
   "metadata": {},
   "outputs": [],
   "source": []
  }
 ],
 "metadata": {
  "kernelspec": {
   "display_name": "Python 3",
   "language": "python",
   "name": "python3"
  },
  "language_info": {
   "codemirror_mode": {
    "name": "ipython",
    "version": 3
   },
   "file_extension": ".py",
   "mimetype": "text/x-python",
   "name": "python",
   "nbconvert_exporter": "python",
   "pygments_lexer": "ipython3",
   "version": "3.7.6"
  }
 },
 "nbformat": 4,
 "nbformat_minor": 4
}
