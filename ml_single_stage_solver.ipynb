{
 "cells": [
  {
   "cell_type": "code",
   "execution_count": 1,
   "metadata": {},
   "outputs": [],
   "source": [
    "#verification that each region yileds the equilibrium suggested by theory\n",
    "%load_ext autoreload\n",
    "%autoreload 2\n",
    "from utils.imports import *\n",
    "from utils.single_stage import *\n",
    "from dsGameSolver.gameSolver import dsSolve"
   ]
  },
  {
   "cell_type": "code",
   "execution_count": 2,
   "metadata": {},
   "outputs": [],
   "source": [
    "region=3\n",
    "ca,cb,la,lb,paa_t,pba_t,pbb_t,pab_t = get_example(region)\n",
    "dist  = 'uniform'\n",
    "maxpx = ca+5\n",
    "npts = 100"
   ]
  },
  {
   "cell_type": "code",
   "execution_count": 3,
   "metadata": {},
   "outputs": [],
   "source": [
    "objaa_t, objba_t, objbb_t, objab_t = get_objs(paa_t,pba_t,pbb_t,pab_t,ca,cb,la,lb,dist)\n",
    "paa_arr,pba_arr,objaa,objba,_ = get_payoffs_a(ca,cb,maxpx,npts,dist,la)\n",
    "pbb_arr,pab_arr,objbb,objab,_ = get_payoffs_b(ca,cb,maxpx,npts,dist,lb)"
   ]
  },
  {
   "cell_type": "code",
   "execution_count": 4,
   "metadata": {},
   "outputs": [],
   "source": [
    "def get_computed_equilibrium(payoffs,p1_arr,p2_arr):\n",
    "    equilibrium = dsSolve(payoffs)\n",
    "    eq_indices = np.argmax(equilibrium['strategies'][0],axis=1)\n",
    "    temp = [p1_arr[eq_indices[0]],p2_arr[eq_indices[1]],equilibrium['stateValues'][0][0],equilibrium['stateValues'][0][1]]\n",
    "    return (np.round(x,3) for x in temp)"
   ]
  },
  {
   "cell_type": "code",
   "execution_count": 5,
   "metadata": {},
   "outputs": [
    {
     "name": "stdout",
     "output_type": "stream",
     "text": [
      "A's strong sub-market (theoretical:paa,pba,objaa,objba,constraintA): 1.98 0.99 0.495 0.49 True\n",
      "A's strong sub-market (computed:paa,pba,objaa,objba,constraintA): 2.01 1.03 0.515 0.505 True\n",
      "B's strong sub-market (theoretical:pbb,pab,objbb,objab,constraintB): 1.65 1.32 1.378 0.053 True\n",
      "B's strong sub-market (computed:pbb,pab,objbb,objab,constraintB): 1.697 1.354 1.406 0.061 True\n"
     ]
    }
   ],
   "source": [
    "paa_c,pba_c,objaa_c,objba_c = get_computed_equilibrium([np.array([objaa,objba])],paa_arr,pba_arr)\n",
    "pbb_c,pab_c,objbb_c,objab_c = get_computed_equilibrium([np.array([objbb,objab])],pbb_arr,pab_arr)\n",
    "\n",
    "print('A\\'s strong sub-market (theoretical:paa,pba,objaa,objba,constraintA):',\n",
    "      paa_t,pba_t,objaa_t,objba_t,constraints_a(paa_t,pba_t,ca,cb,la))\n",
    "print('A\\'s strong sub-market (computed:paa,pba,objaa,objba,constraintA):',\n",
    "      paa_c,pba_c,objaa_c,objba_c,constraints_a(paa_c,pba_c,ca,cb,la))\n",
    "print('B\\'s strong sub-market (theoretical:pbb,pab,objbb,objab,constraintB):',\n",
    "      pbb_t,pab_t,objbb_t,objab_t,constraints_b(pbb_t,pab_t,cb,ca,lb))\n",
    "print('B\\'s strong sub-market (computed:pbb,pab,objbb,objab,constraintB):',\n",
    "      pbb_c,pab_c,objbb_c,objab_c,constraints_b(pbb_c,pab_c,cb,ca,lb))"
   ]
  },
  {
   "cell_type": "code",
   "execution_count": null,
   "metadata": {},
   "outputs": [],
   "source": []
  }
 ],
 "metadata": {
  "kernelspec": {
   "display_name": "Python 3",
   "language": "python",
   "name": "python3"
  },
  "language_info": {
   "codemirror_mode": {
    "name": "ipython",
    "version": 3
   },
   "file_extension": ".py",
   "mimetype": "text/x-python",
   "name": "python",
   "nbconvert_exporter": "python",
   "pygments_lexer": "ipython3",
   "version": "3.7.6"
  }
 },
 "nbformat": 4,
 "nbformat_minor": 4
}
